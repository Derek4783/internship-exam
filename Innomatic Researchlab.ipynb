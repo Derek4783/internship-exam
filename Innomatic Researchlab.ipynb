{
 "cells": [
  {
   "cell_type": "code",
   "execution_count": 1,
   "metadata": {},
   "outputs": [],
   "source": [
    "#importing necessary libraries\n",
    "import pandas as pd \n",
    "import numpy as np \n",
    "import matplotlib.pyplot as plt\n",
    "import seaborn as sns"
   ]
  },
  {
   "cell_type": "code",
   "execution_count": 2,
   "metadata": {},
   "outputs": [
    {
     "data": {
      "text/html": [
       "<div>\n",
       "<style scoped>\n",
       "    .dataframe tbody tr th:only-of-type {\n",
       "        vertical-align: middle;\n",
       "    }\n",
       "\n",
       "    .dataframe tbody tr th {\n",
       "        vertical-align: top;\n",
       "    }\n",
       "\n",
       "    .dataframe thead th {\n",
       "        text-align: right;\n",
       "    }\n",
       "</style>\n",
       "<table border=\"1\" class=\"dataframe\">\n",
       "  <thead>\n",
       "    <tr style=\"text-align: right;\">\n",
       "      <th></th>\n",
       "      <th>x1</th>\n",
       "      <th>x2</th>\n",
       "      <th>y</th>\n",
       "    </tr>\n",
       "  </thead>\n",
       "  <tbody>\n",
       "    <tr>\n",
       "      <th>0</th>\n",
       "      <td>-119.366669</td>\n",
       "      <td>1.150000e+02</td>\n",
       "      <td>1</td>\n",
       "    </tr>\n",
       "    <tr>\n",
       "      <th>1</th>\n",
       "      <td>-101.108044</td>\n",
       "      <td>9.777716e+01</td>\n",
       "      <td>1</td>\n",
       "    </tr>\n",
       "    <tr>\n",
       "      <th>2</th>\n",
       "      <td>-130.278658</td>\n",
       "      <td>1.067677e+02</td>\n",
       "      <td>1</td>\n",
       "    </tr>\n",
       "    <tr>\n",
       "      <th>3</th>\n",
       "      <td>-114.703415</td>\n",
       "      <td>1.011955e+02</td>\n",
       "      <td>1</td>\n",
       "    </tr>\n",
       "    <tr>\n",
       "      <th>4</th>\n",
       "      <td>-119.366669</td>\n",
       "      <td>1.150000e+02</td>\n",
       "      <td>1</td>\n",
       "    </tr>\n",
       "    <tr>\n",
       "      <th>...</th>\n",
       "      <td>...</td>\n",
       "      <td>...</td>\n",
       "      <td>...</td>\n",
       "    </tr>\n",
       "    <tr>\n",
       "      <th>2222</th>\n",
       "      <td>98.714112</td>\n",
       "      <td>8.964312e+01</td>\n",
       "      <td>0</td>\n",
       "    </tr>\n",
       "    <tr>\n",
       "      <th>2223</th>\n",
       "      <td>96.633331</td>\n",
       "      <td>9.100000e+01</td>\n",
       "      <td>0</td>\n",
       "    </tr>\n",
       "    <tr>\n",
       "      <th>2224</th>\n",
       "      <td>85.673940</td>\n",
       "      <td>1.038393e+02</td>\n",
       "      <td>0</td>\n",
       "    </tr>\n",
       "    <tr>\n",
       "      <th>2225</th>\n",
       "      <td>78.958862</td>\n",
       "      <td>7.860537e+01</td>\n",
       "      <td>0</td>\n",
       "    </tr>\n",
       "    <tr>\n",
       "      <th>2226</th>\n",
       "      <td>109.624009</td>\n",
       "      <td>1.000000e+08</td>\n",
       "      <td>0</td>\n",
       "    </tr>\n",
       "  </tbody>\n",
       "</table>\n",
       "<p>2227 rows × 3 columns</p>\n",
       "</div>"
      ],
      "text/plain": [
       "              x1            x2  y\n",
       "0    -119.366669  1.150000e+02  1\n",
       "1    -101.108044  9.777716e+01  1\n",
       "2    -130.278658  1.067677e+02  1\n",
       "3    -114.703415  1.011955e+02  1\n",
       "4    -119.366669  1.150000e+02  1\n",
       "...          ...           ... ..\n",
       "2222   98.714112  8.964312e+01  0\n",
       "2223   96.633331  9.100000e+01  0\n",
       "2224   85.673940  1.038393e+02  0\n",
       "2225   78.958862  7.860537e+01  0\n",
       "2226  109.624009  1.000000e+08  0\n",
       "\n",
       "[2227 rows x 3 columns]"
      ]
     },
     "execution_count": 2,
     "metadata": {},
     "output_type": "execute_result"
    }
   ],
   "source": [
    "#Importing data set\n",
    "data=pd.read_csv('data.csv')\n",
    "data"
   ]
  },
  {
   "cell_type": "code",
   "execution_count": 3,
   "metadata": {},
   "outputs": [
    {
     "data": {
      "text/plain": [
       "(2227, 3)"
      ]
     },
     "execution_count": 3,
     "metadata": {},
     "output_type": "execute_result"
    }
   ],
   "source": [
    "data.shape"
   ]
  },
  {
   "cell_type": "code",
   "execution_count": 4,
   "metadata": {},
   "outputs": [
    {
     "name": "stdout",
     "output_type": "stream",
     "text": [
      "<class 'pandas.core.frame.DataFrame'>\n",
      "RangeIndex: 2227 entries, 0 to 2226\n",
      "Data columns (total 3 columns):\n",
      " #   Column  Non-Null Count  Dtype  \n",
      "---  ------  --------------  -----  \n",
      " 0   x1      2222 non-null   float64\n",
      " 1   x2      2224 non-null   float64\n",
      " 2   y       2227 non-null   int64  \n",
      "dtypes: float64(2), int64(1)\n",
      "memory usage: 52.3 KB\n"
     ]
    }
   ],
   "source": [
    "data.info()"
   ]
  },
  {
   "cell_type": "code",
   "execution_count": 5,
   "metadata": {},
   "outputs": [
    {
     "data": {
      "text/html": [
       "<div>\n",
       "<style scoped>\n",
       "    .dataframe tbody tr th:only-of-type {\n",
       "        vertical-align: middle;\n",
       "    }\n",
       "\n",
       "    .dataframe tbody tr th {\n",
       "        vertical-align: top;\n",
       "    }\n",
       "\n",
       "    .dataframe thead th {\n",
       "        text-align: right;\n",
       "    }\n",
       "</style>\n",
       "<table border=\"1\" class=\"dataframe\">\n",
       "  <thead>\n",
       "    <tr style=\"text-align: right;\">\n",
       "      <th></th>\n",
       "      <th>x1</th>\n",
       "      <th>x2</th>\n",
       "      <th>y</th>\n",
       "    </tr>\n",
       "  </thead>\n",
       "  <tbody>\n",
       "    <tr>\n",
       "      <th>count</th>\n",
       "      <td>2222.000000</td>\n",
       "      <td>2.224000e+03</td>\n",
       "      <td>2227.000000</td>\n",
       "    </tr>\n",
       "    <tr>\n",
       "      <th>mean</th>\n",
       "      <td>-4.818766</td>\n",
       "      <td>8.947626e+04</td>\n",
       "      <td>0.442299</td>\n",
       "    </tr>\n",
       "    <tr>\n",
       "      <th>std</th>\n",
       "      <td>74.939909</td>\n",
       "      <td>2.983323e+06</td>\n",
       "      <td>0.496771</td>\n",
       "    </tr>\n",
       "    <tr>\n",
       "      <th>min</th>\n",
       "      <td>-134.369160</td>\n",
       "      <td>-1.348761e+02</td>\n",
       "      <td>0.000000</td>\n",
       "    </tr>\n",
       "    <tr>\n",
       "      <th>25%</th>\n",
       "      <td>-71.757030</td>\n",
       "      <td>-8.012983e+01</td>\n",
       "      <td>0.000000</td>\n",
       "    </tr>\n",
       "    <tr>\n",
       "      <th>50%</th>\n",
       "      <td>-9.836555</td>\n",
       "      <td>-1.046151e+00</td>\n",
       "      <td>0.000000</td>\n",
       "    </tr>\n",
       "    <tr>\n",
       "      <th>75%</th>\n",
       "      <td>59.813962</td>\n",
       "      <td>6.389086e+01</td>\n",
       "      <td>1.000000</td>\n",
       "    </tr>\n",
       "    <tr>\n",
       "      <th>max</th>\n",
       "      <td>134.508687</td>\n",
       "      <td>1.000000e+08</td>\n",
       "      <td>1.000000</td>\n",
       "    </tr>\n",
       "  </tbody>\n",
       "</table>\n",
       "</div>"
      ],
      "text/plain": [
       "                x1            x2            y\n",
       "count  2222.000000  2.224000e+03  2227.000000\n",
       "mean     -4.818766  8.947626e+04     0.442299\n",
       "std      74.939909  2.983323e+06     0.496771\n",
       "min    -134.369160 -1.348761e+02     0.000000\n",
       "25%     -71.757030 -8.012983e+01     0.000000\n",
       "50%      -9.836555 -1.046151e+00     0.000000\n",
       "75%      59.813962  6.389086e+01     1.000000\n",
       "max     134.508687  1.000000e+08     1.000000"
      ]
     },
     "execution_count": 5,
     "metadata": {},
     "output_type": "execute_result"
    }
   ],
   "source": [
    "data.describe()"
   ]
  },
  {
   "cell_type": "code",
   "execution_count": 6,
   "metadata": {},
   "outputs": [
    {
     "data": {
      "text/plain": [
       "x1    5\n",
       "x2    3\n",
       "y     0\n",
       "dtype: int64"
      ]
     },
     "execution_count": 6,
     "metadata": {},
     "output_type": "execute_result"
    }
   ],
   "source": [
    "data.isnull().sum()"
   ]
  },
  {
   "cell_type": "code",
   "execution_count": 7,
   "metadata": {},
   "outputs": [
    {
     "data": {
      "text/plain": [
       "<AxesSubplot:>"
      ]
     },
     "execution_count": 7,
     "metadata": {},
     "output_type": "execute_result"
    },
    {
     "data": {
      "image/png": "[encoded data removed]",
      "text/plain": [
       "<Figure size 432x288 with 1 Axes>"
      ]
     },
     "metadata": {
      "needs_background": "light"
     },
     "output_type": "display_data"
    }
   ],
   "source": [
    "#heatmap of null value\n",
    "sns.heatmap(data.isnull(),cbar=False)"
   ]
  },
  {
   "cell_type": "code",
   "execution_count": 8,
   "metadata": {},
   "outputs": [
    {
     "name": "stderr",
     "output_type": "stream",
     "text": [
      "C:\\Users\\ADMIN\\anaconda3\\lib\\site-packages\\seaborn\\distributions.py:2551: FutureWarning: `distplot` is a deprecated function and will be removed in a future version. Please adapt your code to use either `displot` (a figure-level function with similar flexibility) or `histplot` (an axes-level function for histograms).\n",
      "  warnings.warn(msg, FutureWarning)\n",
      "C:\\Users\\ADMIN\\anaconda3\\lib\\site-packages\\seaborn\\distributions.py:2551: FutureWarning: `distplot` is a deprecated function and will be removed in a future version. Please adapt your code to use either `displot` (a figure-level function with similar flexibility) or `histplot` (an axes-level function for histograms).\n",
      "  warnings.warn(msg, FutureWarning)\n",
      "C:\\Users\\ADMIN\\anaconda3\\lib\\site-packages\\seaborn\\distributions.py:2551: FutureWarning: `distplot` is a deprecated function and will be removed in a future version. Please adapt your code to use either `displot` (a figure-level function with similar flexibility) or `histplot` (an axes-level function for histograms).\n",
      "  warnings.warn(msg, FutureWarning)\n"
     ]
    },
    {
     "data": {
      "image/png": "[encoded data removed]",
      "text/plain": [
       "<Figure size 1080x1440 with 3 Axes>"
      ]
     },
     "metadata": {},
     "output_type": "display_data"
    }
   ],
   "source": [
    "# let's see how data is distributed for every column\n",
    "plt.figure(figsize=(15,20), facecolor='white')\n",
    "plotnumber = 1\n",
    "\n",
    "for column in data:\n",
    "    if plotnumber<=3 :     # as there are 3 columns in the data\n",
    "        ax = plt.subplot(3,3,plotnumber)\n",
    "        sns.distplot(data[column])\n",
    "        plt.xlabel(column,fontsize=20)\n",
    "    plotnumber+=1\n",
    "plt.show()"
   ]
  },
  {
   "cell_type": "code",
   "execution_count": 9,
   "metadata": {},
   "outputs": [
    {
     "data": {
      "text/html": [
       "<div>\n",
       "<style scoped>\n",
       "    .dataframe tbody tr th:only-of-type {\n",
       "        vertical-align: middle;\n",
       "    }\n",
       "\n",
       "    .dataframe tbody tr th {\n",
       "        vertical-align: top;\n",
       "    }\n",
       "\n",
       "    .dataframe thead th {\n",
       "        text-align: right;\n",
       "    }\n",
       "</style>\n",
       "<table border=\"1\" class=\"dataframe\">\n",
       "  <thead>\n",
       "    <tr style=\"text-align: right;\">\n",
       "      <th></th>\n",
       "      <th>x1</th>\n",
       "      <th>x2</th>\n",
       "      <th>y</th>\n",
       "    </tr>\n",
       "  </thead>\n",
       "  <tbody>\n",
       "    <tr>\n",
       "      <th>0</th>\n",
       "      <td>-119.366669</td>\n",
       "      <td>1.150000e+02</td>\n",
       "      <td>1</td>\n",
       "    </tr>\n",
       "    <tr>\n",
       "      <th>1</th>\n",
       "      <td>-101.108044</td>\n",
       "      <td>9.777716e+01</td>\n",
       "      <td>1</td>\n",
       "    </tr>\n",
       "    <tr>\n",
       "      <th>2</th>\n",
       "      <td>-130.278658</td>\n",
       "      <td>1.067677e+02</td>\n",
       "      <td>1</td>\n",
       "    </tr>\n",
       "    <tr>\n",
       "      <th>3</th>\n",
       "      <td>-114.703415</td>\n",
       "      <td>1.011955e+02</td>\n",
       "      <td>1</td>\n",
       "    </tr>\n",
       "    <tr>\n",
       "      <th>4</th>\n",
       "      <td>-119.366669</td>\n",
       "      <td>1.150000e+02</td>\n",
       "      <td>1</td>\n",
       "    </tr>\n",
       "    <tr>\n",
       "      <th>...</th>\n",
       "      <td>...</td>\n",
       "      <td>...</td>\n",
       "      <td>...</td>\n",
       "    </tr>\n",
       "    <tr>\n",
       "      <th>2222</th>\n",
       "      <td>98.714112</td>\n",
       "      <td>8.964312e+01</td>\n",
       "      <td>0</td>\n",
       "    </tr>\n",
       "    <tr>\n",
       "      <th>2223</th>\n",
       "      <td>96.633331</td>\n",
       "      <td>9.100000e+01</td>\n",
       "      <td>0</td>\n",
       "    </tr>\n",
       "    <tr>\n",
       "      <th>2224</th>\n",
       "      <td>85.673940</td>\n",
       "      <td>1.038393e+02</td>\n",
       "      <td>0</td>\n",
       "    </tr>\n",
       "    <tr>\n",
       "      <th>2225</th>\n",
       "      <td>78.958862</td>\n",
       "      <td>7.860537e+01</td>\n",
       "      <td>0</td>\n",
       "    </tr>\n",
       "    <tr>\n",
       "      <th>2226</th>\n",
       "      <td>109.624009</td>\n",
       "      <td>1.000000e+08</td>\n",
       "      <td>0</td>\n",
       "    </tr>\n",
       "  </tbody>\n",
       "</table>\n",
       "<p>2219 rows × 3 columns</p>\n",
       "</div>"
      ],
      "text/plain": [
       "              x1            x2  y\n",
       "0    -119.366669  1.150000e+02  1\n",
       "1    -101.108044  9.777716e+01  1\n",
       "2    -130.278658  1.067677e+02  1\n",
       "3    -114.703415  1.011955e+02  1\n",
       "4    -119.366669  1.150000e+02  1\n",
       "...          ...           ... ..\n",
       "2222   98.714112  8.964312e+01  0\n",
       "2223   96.633331  9.100000e+01  0\n",
       "2224   85.673940  1.038393e+02  0\n",
       "2225   78.958862  7.860537e+01  0\n",
       "2226  109.624009  1.000000e+08  0\n",
       "\n",
       "[2219 rows x 3 columns]"
      ]
     },
     "execution_count": 9,
     "metadata": {},
     "output_type": "execute_result"
    }
   ],
   "source": [
    "#drop null value in dataset because less data miss in given data set\n",
    "data.dropna(inplace=True)\n",
    "data"
   ]
  },
  {
   "cell_type": "code",
   "execution_count": 10,
   "metadata": {},
   "outputs": [],
   "source": [
    "from sklearn.model_selection import train_test_split,GridSearchCV"
   ]
  },
  {
   "cell_type": "code",
   "execution_count": 11,
   "metadata": {},
   "outputs": [],
   "source": [
    "y=data['y']  #target variable\n",
    "x=data.drop(columns='y')"
   ]
  },
  {
   "cell_type": "code",
   "execution_count": 12,
   "metadata": {},
   "outputs": [],
   "source": [
    "#spliting data set in train and test\n",
    "x_train,x_test,y_train,y_test=train_test_split(x,y,test_size=0.25,random_state=335)"
   ]
  },
  {
   "cell_type": "code",
   "execution_count": 13,
   "metadata": {},
   "outputs": [],
   "source": [
    "from sklearn.preprocessing import StandardScaler"
   ]
  },
  {
   "cell_type": "code",
   "execution_count": 14,
   "metadata": {},
   "outputs": [],
   "source": [
    "#as data is in different range scaling is require \n",
    "scaler=StandardScaler()\n",
    "x_scaler=scaler.fit_transform(x)\n"
   ]
  },
  {
   "cell_type": "markdown",
   "metadata": {},
   "source": [
    "# Logistic Regression"
   ]
  },
  {
   "cell_type": "code",
   "execution_count": 15,
   "metadata": {},
   "outputs": [],
   "source": [
    "from sklearn.linear_model  import  LogisticRegression     #importing logistic regression\n",
    "from sklearn.metrics import accuracy_score, confusion_matrix"
   ]
  },
  {
   "cell_type": "code",
   "execution_count": 16,
   "metadata": {},
   "outputs": [
    {
     "name": "stderr",
     "output_type": "stream",
     "text": [
      "C:\\Users\\ADMIN\\anaconda3\\lib\\site-packages\\sklearn\\linear_model\\_logistic.py:763: ConvergenceWarning: lbfgs failed to converge (status=2):\n",
      "ABNORMAL_TERMINATION_IN_LNSRCH.\n",
      "\n",
      "Increase the number of iterations (max_iter) or scale the data as shown in:\n",
      "    https://scikit-learn.org/stable/modules/preprocessing.html\n",
      "Please also refer to the documentation for alternative solver options:\n",
      "    https://scikit-learn.org/stable/modules/linear_model.html#logistic-regression\n",
      "  n_iter_i = _check_optimize_result(\n"
     ]
    },
    {
     "data": {
      "text/plain": [
       "LogisticRegression()"
      ]
     },
     "execution_count": 16,
     "metadata": {},
     "output_type": "execute_result"
    }
   ],
   "source": [
    "log_reg = LogisticRegression()\n",
    "\n",
    "log_reg.fit(x_train,y_train)     # fit data in train and test "
   ]
  },
  {
   "cell_type": "code",
   "execution_count": 17,
   "metadata": {},
   "outputs": [],
   "source": [
    "y_pred = log_reg.predict(x_test)     # prediction of test data set"
   ]
  },
  {
   "cell_type": "code",
   "execution_count": 18,
   "metadata": {},
   "outputs": [
    {
     "data": {
      "text/plain": [
       "49.72972972972973"
      ]
     },
     "execution_count": 18,
     "metadata": {},
     "output_type": "execute_result"
    }
   ],
   "source": [
    "accuracy = accuracy_score(y_test,y_pred)\n",
    "accuracy*100"
   ]
  },
  {
   "cell_type": "markdown",
   "metadata": {},
   "source": [
    "accuracy of Logistic Regression is 49.72%"
   ]
  },
  {
   "cell_type": "markdown",
   "metadata": {},
   "source": [
    "# DecisionTreeClassifier"
   ]
  },
  {
   "cell_type": "code",
   "execution_count": null,
   "metadata": {},
   "outputs": [],
   "source": [
    "from sklearn.tree import DecisionTreeClassifier, export_graphviz # importing decisiontreeclassifier\n",
    "from sklearn import tree"
   ]
  },
  {
   "cell_type": "code",
   "execution_count": null,
   "metadata": {},
   "outputs": [],
   "source": [
    "#let's first visualize the tree on the data \n",
    "clf = DecisionTreeClassifier()\n",
    "clf.fit(x_train,y_train)"
   ]
  },
  {
   "cell_type": "code",
   "execution_count": null,
   "metadata": {},
   "outputs": [],
   "source": [
    "#hyperparameter tuning\n",
    "grid_param = {\n",
    "    'criterion': ['gini', 'entropy'],\n",
    "    'max_depth' : range(2,32,1),\n",
    "    'min_samples_leaf' : range(1,10,1),\n",
    "    'min_samples_split': range(2,10,1),\n",
    "    'splitter' : ['best', 'random']\n",
    "    \n",
    "}"
   ]
  },
  {
   "cell_type": "code",
   "execution_count": null,
   "metadata": {},
   "outputs": [],
   "source": [
    "grid_search = GridSearchCV(estimator=clf,\n",
    "                     param_grid=grid_param,\n",
    "                     cv=5,\n",
    "                    n_jobs =-1)"
   ]
  },
  {
   "cell_type": "code",
   "execution_count": null,
   "metadata": {},
   "outputs": [],
   "source": [
    "grid_search.fit(x_train,y_train) #high computation"
   ]
  },
  {
   "cell_type": "code",
   "execution_count": null,
   "metadata": {},
   "outputs": [],
   "source": [
    "best_parameters = grid_search.best_params_\n",
    "print(best_parameters)"
   ]
  },
  {
   "cell_type": "code",
   "execution_count": null,
   "metadata": {},
   "outputs": [],
   "source": [
    "clf = DecisionTreeClassifier(criterion = 'entropy', max_depth =30, min_samples_leaf= 8, min_samples_split= 8, splitter ='random')\n",
    "clf.fit(x_train,y_train)"
   ]
  },
  {
   "cell_type": "code",
   "execution_count": null,
   "metadata": {},
   "outputs": [],
   "source": [
    "accuracy=clf.score(x_test,y_test) \n",
    "accuracy*100"
   ]
  },
  {
   "cell_type": "markdown",
   "metadata": {},
   "source": [
    "accuracy of DecisionTreeClassifier is 92.97%"
   ]
  },
  {
   "cell_type": "markdown",
   "metadata": {},
   "source": [
    "# KNN"
   ]
  },
  {
   "cell_type": "code",
   "execution_count": 19,
   "metadata": {},
   "outputs": [],
   "source": [
    "from sklearn.neighbors import KNeighborsClassifier     #importing knn"
   ]
  },
  {
   "cell_type": "code",
   "execution_count": 20,
   "metadata": {},
   "outputs": [],
   "source": [
    "knn = KNeighborsClassifier()"
   ]
  },
  {
   "cell_type": "code",
   "execution_count": 21,
   "metadata": {},
   "outputs": [],
   "source": [
    "#hyperparameter tuning\n",
    "param_grid = { 'algorithm' : ['ball_tree', 'kd_tree', 'brute'],\n",
    "               'leaf_size' : [18,20,25,27,30,32,34],\n",
    "               'n_neighbors' : [3,5,7,9,10,11,12,13]\n",
    "              }"
   ]
  },
  {
   "cell_type": "code",
   "execution_count": 22,
   "metadata": {},
   "outputs": [],
   "source": [
    "gridsearch = GridSearchCV(knn, param_grid,verbose=3)"
   ]
  },
  {
   "cell_type": "code",
   "execution_count": 23,
   "metadata": {},
   "outputs": [
    {
     "name": "stdout",
     "output_type": "stream",
     "text": [
      "Fitting 5 folds for each of 168 candidates, totalling 840 fits\n",
      "[CV 1/5] END algorithm=ball_tree, leaf_size=18, n_neighbors=3; total time=   0.0s\n",
      "[CV 2/5] END algorithm=ball_tree, leaf_size=18, n_neighbors=3; total time=   0.0s\n",
      "[CV 3/5] END algorithm=ball_tree, leaf_size=18, n_neighbors=3; total time=   0.0s\n",
      "[CV 4/5] END algorithm=ball_tree, leaf_size=18, n_neighbors=3; total time=   0.0s\n",
      "[CV 5/5] END algorithm=ball_tree, leaf_size=18, n_neighbors=3; total time=   0.0s\n",
      "[CV 1/5] END algorithm=ball_tree, leaf_size=18, n_neighbors=5; total time=   0.0s\n",
      "[CV 2/5] END algorithm=ball_tree, leaf_size=18, n_neighbors=5; total time=   0.0s\n",
      "[CV 3/5] END algorithm=ball_tree, leaf_size=18, n_neighbors=5; total time=   0.0s\n",
      "[CV 4/5] END algorithm=ball_tree, leaf_size=18, n_neighbors=5; total time=   0.0s\n",
      "[CV 5/5] END algorithm=ball_tree, leaf_size=18, n_neighbors=5; total time=   0.0s\n",
      "[CV 1/5] END algorithm=ball_tree, leaf_size=18, n_neighbors=7; total time=   0.0s\n",
      "[CV 2/5] END algorithm=ball_tree, leaf_size=18, n_neighbors=7; total time=   0.0s\n",
      "[CV 3/5] END algorithm=ball_tree, leaf_size=18, n_neighbors=7; total time=   0.0s\n",
      "[CV 4/5] END algorithm=ball_tree, leaf_size=18, n_neighbors=7; total time=   0.0s\n",
      "[CV 5/5] END algorithm=ball_tree, leaf_size=18, n_neighbors=7; total time=   0.0s\n",
      "[CV 1/5] END algorithm=ball_tree, leaf_size=18, n_neighbors=9; total time=   0.0s\n",
      "[CV 2/5] END algorithm=ball_tree, leaf_size=18, n_neighbors=9; total time=   0.0s\n",
      "[CV 3/5] END algorithm=ball_tree, leaf_size=18, n_neighbors=9; total time=   0.0s\n",
      "[CV 4/5] END algorithm=ball_tree, leaf_size=18, n_neighbors=9; total time=   0.0s\n",
      "[CV 5/5] END algorithm=ball_tree, leaf_size=18, n_neighbors=9; total time=   0.0s\n",
      "[CV 1/5] END algorithm=ball_tree, leaf_size=18, n_neighbors=10; total time=   0.0s\n",
      "[CV 2/5] END algorithm=ball_tree, leaf_size=18, n_neighbors=10; total time=   0.0s\n",
      "[CV 3/5] END algorithm=ball_tree, leaf_size=18, n_neighbors=10; total time=   0.0s\n",
      "[CV 4/5] END algorithm=ball_tree, leaf_size=18, n_neighbors=10; total time=   0.0s\n",
      "[CV 5/5] END algorithm=ball_tree, leaf_size=18, n_neighbors=10; total time=   0.0s\n",
      "[CV 1/5] END algorithm=ball_tree, leaf_size=18, n_neighbors=11; total time=   0.0s\n",
      "[CV 2/5] END algorithm=ball_tree, leaf_size=18, n_neighbors=11; total time=   0.0s\n",
      "[CV 3/5] END algorithm=ball_tree, leaf_size=18, n_neighbors=11; total time=   0.0s\n",
      "[CV 4/5] END algorithm=ball_tree, leaf_size=18, n_neighbors=11; total time=   0.0s\n",
      "[CV 5/5] END algorithm=ball_tree, leaf_size=18, n_neighbors=11; total time=   0.0s\n",
      "[CV 1/5] END algorithm=ball_tree, leaf_size=18, n_neighbors=12; total time=   0.0s\n",
      "[CV 2/5] END algorithm=ball_tree, leaf_size=18, n_neighbors=12; total time=   0.0s\n",
      "[CV 3/5] END algorithm=ball_tree, leaf_size=18, n_neighbors=12; total time=   0.0s\n",
      "[CV 4/5] END algorithm=ball_tree, leaf_size=18, n_neighbors=12; total time=   0.0s\n",
      "[CV 5/5] END algorithm=ball_tree, leaf_size=18, n_neighbors=12; total time=   0.0s\n",
      "[CV 1/5] END algorithm=ball_tree, leaf_size=18, n_neighbors=13; total time=   0.0s\n",
      "[CV 2/5] END algorithm=ball_tree, leaf_size=18, n_neighbors=13; total time=   0.0s\n",
      "[CV 3/5] END algorithm=ball_tree, leaf_size=18, n_neighbors=13; total time=   0.0s\n",
      "[CV 4/5] END algorithm=ball_tree, leaf_size=18, n_neighbors=13; total time=   0.0s\n",
      "[CV 5/5] END algorithm=ball_tree, leaf_size=18, n_neighbors=13; total time=   0.0s\n",
      "[CV 1/5] END algorithm=ball_tree, leaf_size=20, n_neighbors=3; total time=   0.0s\n",
      "[CV 2/5] END algorithm=ball_tree, leaf_size=20, n_neighbors=3; total time=   0.0s\n",
      "[CV 3/5] END algorithm=ball_tree, leaf_size=20, n_neighbors=3; total time=   0.0s\n",
      "[CV 4/5] END algorithm=ball_tree, leaf_size=20, n_neighbors=3; total time=   0.0s\n",
      "[CV 5/5] END algorithm=ball_tree, leaf_size=20, n_neighbors=3; total time=   0.0s\n",
      "[CV 1/5] END algorithm=ball_tree, leaf_size=20, n_neighbors=5; total time=   0.0s\n",
      "[CV 2/5] END algorithm=ball_tree, leaf_size=20, n_neighbors=5; total time=   0.0s\n",
      "[CV 3/5] END algorithm=ball_tree, leaf_size=20, n_neighbors=5; total time=   0.0s\n",
      "[CV 4/5] END algorithm=ball_tree, leaf_size=20, n_neighbors=5; total time=   0.0s\n",
      "[CV 5/5] END algorithm=ball_tree, leaf_size=20, n_neighbors=5; total time=   0.0s\n",
      "[CV 1/5] END algorithm=ball_tree, leaf_size=20, n_neighbors=7; total time=   0.0s\n",
      "[CV 2/5] END algorithm=ball_tree, leaf_size=20, n_neighbors=7; total time=   0.0s\n",
      "[CV 3/5] END algorithm=ball_tree, leaf_size=20, n_neighbors=7; total time=   0.0s\n",
      "[CV 4/5] END algorithm=ball_tree, leaf_size=20, n_neighbors=7; total time=   0.0s\n",
      "[CV 5/5] END algorithm=ball_tree, leaf_size=20, n_neighbors=7; total time=   0.0s\n",
      "[CV 1/5] END algorithm=ball_tree, leaf_size=20, n_neighbors=9; total time=   0.0s\n",
      "[CV 2/5] END algorithm=ball_tree, leaf_size=20, n_neighbors=9; total time=   0.0s\n",
      "[CV 3/5] END algorithm=ball_tree, leaf_size=20, n_neighbors=9; total time=   0.0s\n",
      "[CV 4/5] END algorithm=ball_tree, leaf_size=20, n_neighbors=9; total time=   0.0s\n",
      "[CV 5/5] END algorithm=ball_tree, leaf_size=20, n_neighbors=9; total time=   0.0s\n",
      "[CV 1/5] END algorithm=ball_tree, leaf_size=20, n_neighbors=10; total time=   0.0s\n",
      "[CV 2/5] END algorithm=ball_tree, leaf_size=20, n_neighbors=10; total time=   0.0s\n",
      "[CV 3/5] END algorithm=ball_tree, leaf_size=20, n_neighbors=10; total time=   0.0s\n",
      "[CV 4/5] END algorithm=ball_tree, leaf_size=20, n_neighbors=10; total time=   0.0s\n",
      "[CV 5/5] END algorithm=ball_tree, leaf_size=20, n_neighbors=10; total time=   0.0s\n",
      "[CV 1/5] END algorithm=ball_tree, leaf_size=20, n_neighbors=11; total time=   0.0s\n",
      "[CV 2/5] END algorithm=ball_tree, leaf_size=20, n_neighbors=11; total time=   0.0s\n",
      "[CV 3/5] END algorithm=ball_tree, leaf_size=20, n_neighbors=11; total time=   0.0s\n",
      "[CV 4/5] END algorithm=ball_tree, leaf_size=20, n_neighbors=11; total time=   0.0s\n",
      "[CV 5/5] END algorithm=ball_tree, leaf_size=20, n_neighbors=11; total time=   0.0s\n",
      "[CV 1/5] END algorithm=ball_tree, leaf_size=20, n_neighbors=12; total time=   0.0s\n",
      "[CV 2/5] END algorithm=ball_tree, leaf_size=20, n_neighbors=12; total time=   0.0s\n",
      "[CV 3/5] END algorithm=ball_tree, leaf_size=20, n_neighbors=12; total time=   0.0s\n",
      "[CV 4/5] END algorithm=ball_tree, leaf_size=20, n_neighbors=12; total time=   0.0s\n",
      "[CV 5/5] END algorithm=ball_tree, leaf_size=20, n_neighbors=12; total time=   0.0s\n",
      "[CV 1/5] END algorithm=ball_tree, leaf_size=20, n_neighbors=13; total time=   0.0s\n",
      "[CV 2/5] END algorithm=ball_tree, leaf_size=20, n_neighbors=13; total time=   0.0s\n",
      "[CV 3/5] END algorithm=ball_tree, leaf_size=20, n_neighbors=13; total time=   0.0s\n",
      "[CV 4/5] END algorithm=ball_tree, leaf_size=20, n_neighbors=13; total time=   0.0s\n",
      "[CV 5/5] END algorithm=ball_tree, leaf_size=20, n_neighbors=13; total time=   0.0s\n",
      "[CV 1/5] END algorithm=ball_tree, leaf_size=25, n_neighbors=3; total time=   0.0s\n",
      "[CV 2/5] END algorithm=ball_tree, leaf_size=25, n_neighbors=3; total time=   0.0s\n",
      "[CV 3/5] END algorithm=ball_tree, leaf_size=25, n_neighbors=3; total time=   0.0s\n",
      "[CV 4/5] END algorithm=ball_tree, leaf_size=25, n_neighbors=3; total time=   0.0s\n",
      "[CV 5/5] END algorithm=ball_tree, leaf_size=25, n_neighbors=3; total time=   0.0s\n",
      "[CV 1/5] END algorithm=ball_tree, leaf_size=25, n_neighbors=5; total time=   0.0s\n",
      "[CV 2/5] END algorithm=ball_tree, leaf_size=25, n_neighbors=5; total time=   0.0s\n",
      "[CV 3/5] END algorithm=ball_tree, leaf_size=25, n_neighbors=5; total time=   0.0s\n",
      "[CV 4/5] END algorithm=ball_tree, leaf_size=25, n_neighbors=5; total time=   0.0s\n",
      "[CV 5/5] END algorithm=ball_tree, leaf_size=25, n_neighbors=5; total time=   0.0s\n",
      "[CV 1/5] END algorithm=ball_tree, leaf_size=25, n_neighbors=7; total time=   0.0s\n",
      "[CV 2/5] END algorithm=ball_tree, leaf_size=25, n_neighbors=7; total time=   0.0s\n",
      "[CV 3/5] END algorithm=ball_tree, leaf_size=25, n_neighbors=7; total time=   0.0s\n",
      "[CV 4/5] END algorithm=ball_tree, leaf_size=25, n_neighbors=7; total time=   0.0s\n",
      "[CV 5/5] END algorithm=ball_tree, leaf_size=25, n_neighbors=7; total time=   0.0s\n",
      "[CV 1/5] END algorithm=ball_tree, leaf_size=25, n_neighbors=9; total time=   0.0s\n",
      "[CV 2/5] END algorithm=ball_tree, leaf_size=25, n_neighbors=9; total time=   0.0s\n",
      "[CV 3/5] END algorithm=ball_tree, leaf_size=25, n_neighbors=9; total time=   0.0s\n",
      "[CV 4/5] END algorithm=ball_tree, leaf_size=25, n_neighbors=9; total time=   0.0s\n",
      "[CV 5/5] END algorithm=ball_tree, leaf_size=25, n_neighbors=9; total time=   0.0s\n",
      "[CV 1/5] END algorithm=ball_tree, leaf_size=25, n_neighbors=10; total time=   0.0s\n",
      "[CV 2/5] END algorithm=ball_tree, leaf_size=25, n_neighbors=10; total time=   0.0s\n"
     ]
    },
    {
     "name": "stdout",
     "output_type": "stream",
     "text": [
      "[CV 3/5] END algorithm=ball_tree, leaf_size=25, n_neighbors=10; total time=   0.0s\n",
      "[CV 4/5] END algorithm=ball_tree, leaf_size=25, n_neighbors=10; total time=   0.0s\n",
      "[CV 5/5] END algorithm=ball_tree, leaf_size=25, n_neighbors=10; total time=   0.0s\n",
      "[CV 1/5] END algorithm=ball_tree, leaf_size=25, n_neighbors=11; total time=   0.0s\n",
      "[CV 2/5] END algorithm=ball_tree, leaf_size=25, n_neighbors=11; total time=   0.0s\n",
      "[CV 3/5] END algorithm=ball_tree, leaf_size=25, n_neighbors=11; total time=   0.0s\n",
      "[CV 4/5] END algorithm=ball_tree, leaf_size=25, n_neighbors=11; total time=   0.0s\n",
      "[CV 5/5] END algorithm=ball_tree, leaf_size=25, n_neighbors=11; total time=   0.0s\n",
      "[CV 1/5] END algorithm=ball_tree, leaf_size=25, n_neighbors=12; total time=   0.0s\n",
      "[CV 2/5] END algorithm=ball_tree, leaf_size=25, n_neighbors=12; total time=   0.0s\n",
      "[CV 3/5] END algorithm=ball_tree, leaf_size=25, n_neighbors=12; total time=   0.0s\n",
      "[CV 4/5] END algorithm=ball_tree, leaf_size=25, n_neighbors=12; total time=   0.0s\n",
      "[CV 5/5] END algorithm=ball_tree, leaf_size=25, n_neighbors=12; total time=   0.0s\n",
      "[CV 1/5] END algorithm=ball_tree, leaf_size=25, n_neighbors=13; total time=   0.0s\n",
      "[CV 2/5] END algorithm=ball_tree, leaf_size=25, n_neighbors=13; total time=   0.0s\n",
      "[CV 3/5] END algorithm=ball_tree, leaf_size=25, n_neighbors=13; total time=   0.0s\n",
      "[CV 4/5] END algorithm=ball_tree, leaf_size=25, n_neighbors=13; total time=   0.0s\n",
      "[CV 5/5] END algorithm=ball_tree, leaf_size=25, n_neighbors=13; total time=   0.0s\n",
      "[CV 1/5] END algorithm=ball_tree, leaf_size=27, n_neighbors=3; total time=   0.0s\n",
      "[CV 2/5] END algorithm=ball_tree, leaf_size=27, n_neighbors=3; total time=   0.0s\n",
      "[CV 3/5] END algorithm=ball_tree, leaf_size=27, n_neighbors=3; total time=   0.0s\n",
      "[CV 4/5] END algorithm=ball_tree, leaf_size=27, n_neighbors=3; total time=   0.0s\n",
      "[CV 5/5] END algorithm=ball_tree, leaf_size=27, n_neighbors=3; total time=   0.0s\n",
      "[CV 1/5] END algorithm=ball_tree, leaf_size=27, n_neighbors=5; total time=   0.0s\n",
      "[CV 2/5] END algorithm=ball_tree, leaf_size=27, n_neighbors=5; total time=   0.0s\n",
      "[CV 3/5] END algorithm=ball_tree, leaf_size=27, n_neighbors=5; total time=   0.0s\n",
      "[CV 4/5] END algorithm=ball_tree, leaf_size=27, n_neighbors=5; total time=   0.0s\n",
      "[CV 5/5] END algorithm=ball_tree, leaf_size=27, n_neighbors=5; total time=   0.0s\n",
      "[CV 1/5] END algorithm=ball_tree, leaf_size=27, n_neighbors=7; total time=   0.0s\n",
      "[CV 2/5] END algorithm=ball_tree, leaf_size=27, n_neighbors=7; total time=   0.0s\n",
      "[CV 3/5] END algorithm=ball_tree, leaf_size=27, n_neighbors=7; total time=   0.0s\n",
      "[CV 4/5] END algorithm=ball_tree, leaf_size=27, n_neighbors=7; total time=   0.0s\n",
      "[CV 5/5] END algorithm=ball_tree, leaf_size=27, n_neighbors=7; total time=   0.0s\n",
      "[CV 1/5] END algorithm=ball_tree, leaf_size=27, n_neighbors=9; total time=   0.0s\n",
      "[CV 2/5] END algorithm=ball_tree, leaf_size=27, n_neighbors=9; total time=   0.0s\n",
      "[CV 3/5] END algorithm=ball_tree, leaf_size=27, n_neighbors=9; total time=   0.0s\n",
      "[CV 4/5] END algorithm=ball_tree, leaf_size=27, n_neighbors=9; total time=   0.0s\n",
      "[CV 5/5] END algorithm=ball_tree, leaf_size=27, n_neighbors=9; total time=   0.0s\n",
      "[CV 1/5] END algorithm=ball_tree, leaf_size=27, n_neighbors=10; total time=   0.0s\n",
      "[CV 2/5] END algorithm=ball_tree, leaf_size=27, n_neighbors=10; total time=   0.0s\n",
      "[CV 3/5] END algorithm=ball_tree, leaf_size=27, n_neighbors=10; total time=   0.0s\n",
      "[CV 4/5] END algorithm=ball_tree, leaf_size=27, n_neighbors=10; total time=   0.0s\n",
      "[CV 5/5] END algorithm=ball_tree, leaf_size=27, n_neighbors=10; total time=   0.0s\n",
      "[CV 1/5] END algorithm=ball_tree, leaf_size=27, n_neighbors=11; total time=   0.0s\n",
      "[CV 2/5] END algorithm=ball_tree, leaf_size=27, n_neighbors=11; total time=   0.0s\n",
      "[CV 3/5] END algorithm=ball_tree, leaf_size=27, n_neighbors=11; total time=   0.0s\n",
      "[CV 4/5] END algorithm=ball_tree, leaf_size=27, n_neighbors=11; total time=   0.0s\n",
      "[CV 5/5] END algorithm=ball_tree, leaf_size=27, n_neighbors=11; total time=   0.0s\n",
      "[CV 1/5] END algorithm=ball_tree, leaf_size=27, n_neighbors=12; total time=   0.0s\n",
      "[CV 2/5] END algorithm=ball_tree, leaf_size=27, n_neighbors=12; total time=   0.0s\n",
      "[CV 3/5] END algorithm=ball_tree, leaf_size=27, n_neighbors=12; total time=   0.0s\n",
      "[CV 4/5] END algorithm=ball_tree, leaf_size=27, n_neighbors=12; total time=   0.0s\n",
      "[CV 5/5] END algorithm=ball_tree, leaf_size=27, n_neighbors=12; total time=   0.0s\n",
      "[CV 1/5] END algorithm=ball_tree, leaf_size=27, n_neighbors=13; total time=   0.0s\n",
      "[CV 2/5] END algorithm=ball_tree, leaf_size=27, n_neighbors=13; total time=   0.0s\n",
      "[CV 3/5] END algorithm=ball_tree, leaf_size=27, n_neighbors=13; total time=   0.0s\n",
      "[CV 4/5] END algorithm=ball_tree, leaf_size=27, n_neighbors=13; total time=   0.0s\n",
      "[CV 5/5] END algorithm=ball_tree, leaf_size=27, n_neighbors=13; total time=   0.0s\n",
      "[CV 1/5] END algorithm=ball_tree, leaf_size=30, n_neighbors=3; total time=   0.0s\n",
      "[CV 2/5] END algorithm=ball_tree, leaf_size=30, n_neighbors=3; total time=   0.0s\n",
      "[CV 3/5] END algorithm=ball_tree, leaf_size=30, n_neighbors=3; total time=   0.0s\n",
      "[CV 4/5] END algorithm=ball_tree, leaf_size=30, n_neighbors=3; total time=   0.0s\n",
      "[CV 5/5] END algorithm=ball_tree, leaf_size=30, n_neighbors=3; total time=   0.0s\n",
      "[CV 1/5] END algorithm=ball_tree, leaf_size=30, n_neighbors=5; total time=   0.0s\n",
      "[CV 2/5] END algorithm=ball_tree, leaf_size=30, n_neighbors=5; total time=   0.0s\n",
      "[CV 3/5] END algorithm=ball_tree, leaf_size=30, n_neighbors=5; total time=   0.0s\n",
      "[CV 4/5] END algorithm=ball_tree, leaf_size=30, n_neighbors=5; total time=   0.0s\n",
      "[CV 5/5] END algorithm=ball_tree, leaf_size=30, n_neighbors=5; total time=   0.0s\n",
      "[CV 1/5] END algorithm=ball_tree, leaf_size=30, n_neighbors=7; total time=   0.0s\n",
      "[CV 2/5] END algorithm=ball_tree, leaf_size=30, n_neighbors=7; total time=   0.0s\n",
      "[CV 3/5] END algorithm=ball_tree, leaf_size=30, n_neighbors=7; total time=   0.0s\n",
      "[CV 4/5] END algorithm=ball_tree, leaf_size=30, n_neighbors=7; total time=   0.0s\n",
      "[CV 5/5] END algorithm=ball_tree, leaf_size=30, n_neighbors=7; total time=   0.0s\n",
      "[CV 1/5] END algorithm=ball_tree, leaf_size=30, n_neighbors=9; total time=   0.0s\n",
      "[CV 2/5] END algorithm=ball_tree, leaf_size=30, n_neighbors=9; total time=   0.0s\n",
      "[CV 3/5] END algorithm=ball_tree, leaf_size=30, n_neighbors=9; total time=   0.0s\n",
      "[CV 4/5] END algorithm=ball_tree, leaf_size=30, n_neighbors=9; total time=   0.0s\n",
      "[CV 5/5] END algorithm=ball_tree, leaf_size=30, n_neighbors=9; total time=   0.0s\n",
      "[CV 1/5] END algorithm=ball_tree, leaf_size=30, n_neighbors=10; total time=   0.0s\n",
      "[CV 2/5] END algorithm=ball_tree, leaf_size=30, n_neighbors=10; total time=   0.0s\n",
      "[CV 3/5] END algorithm=ball_tree, leaf_size=30, n_neighbors=10; total time=   0.0s\n",
      "[CV 4/5] END algorithm=ball_tree, leaf_size=30, n_neighbors=10; total time=   0.0s\n",
      "[CV 5/5] END algorithm=ball_tree, leaf_size=30, n_neighbors=10; total time=   0.0s\n",
      "[CV 1/5] END algorithm=ball_tree, leaf_size=30, n_neighbors=11; total time=   0.0s\n",
      "[CV 2/5] END algorithm=ball_tree, leaf_size=30, n_neighbors=11; total time=   0.0s\n",
      "[CV 3/5] END algorithm=ball_tree, leaf_size=30, n_neighbors=11; total time=   0.0s\n",
      "[CV 4/5] END algorithm=ball_tree, leaf_size=30, n_neighbors=11; total time=   0.0s\n",
      "[CV 5/5] END algorithm=ball_tree, leaf_size=30, n_neighbors=11; total time=   0.0s\n",
      "[CV 1/5] END algorithm=ball_tree, leaf_size=30, n_neighbors=12; total time=   0.0s\n",
      "[CV 2/5] END algorithm=ball_tree, leaf_size=30, n_neighbors=12; total time=   0.0s\n",
      "[CV 3/5] END algorithm=ball_tree, leaf_size=30, n_neighbors=12; total time=   0.0s\n",
      "[CV 4/5] END algorithm=ball_tree, leaf_size=30, n_neighbors=12; total time=   0.0s\n",
      "[CV 5/5] END algorithm=ball_tree, leaf_size=30, n_neighbors=12; total time=   0.0s\n",
      "[CV 1/5] END algorithm=ball_tree, leaf_size=30, n_neighbors=13; total time=   0.0s\n",
      "[CV 2/5] END algorithm=ball_tree, leaf_size=30, n_neighbors=13; total time=   0.0s\n",
      "[CV 3/5] END algorithm=ball_tree, leaf_size=30, n_neighbors=13; total time=   0.0s\n",
      "[CV 4/5] END algorithm=ball_tree, leaf_size=30, n_neighbors=13; total time=   0.0s\n",
      "[CV 5/5] END algorithm=ball_tree, leaf_size=30, n_neighbors=13; total time=   0.0s\n",
      "[CV 1/5] END algorithm=ball_tree, leaf_size=32, n_neighbors=3; total time=   0.0s\n",
      "[CV 2/5] END algorithm=ball_tree, leaf_size=32, n_neighbors=3; total time=   0.0s\n",
      "[CV 3/5] END algorithm=ball_tree, leaf_size=32, n_neighbors=3; total time=   0.0s\n"
     ]
    },
    {
     "name": "stdout",
     "output_type": "stream",
     "text": [
      "[CV 4/5] END algorithm=ball_tree, leaf_size=32, n_neighbors=3; total time=   0.0s\n",
      "[CV 5/5] END algorithm=ball_tree, leaf_size=32, n_neighbors=3; total time=   0.0s\n",
      "[CV 1/5] END algorithm=ball_tree, leaf_size=32, n_neighbors=5; total time=   0.0s\n",
      "[CV 2/5] END algorithm=ball_tree, leaf_size=32, n_neighbors=5; total time=   0.0s\n",
      "[CV 3/5] END algorithm=ball_tree, leaf_size=32, n_neighbors=5; total time=   0.0s\n",
      "[CV 4/5] END algorithm=ball_tree, leaf_size=32, n_neighbors=5; total time=   0.0s\n",
      "[CV 5/5] END algorithm=ball_tree, leaf_size=32, n_neighbors=5; total time=   0.0s\n",
      "[CV 1/5] END algorithm=ball_tree, leaf_size=32, n_neighbors=7; total time=   0.0s\n",
      "[CV 2/5] END algorithm=ball_tree, leaf_size=32, n_neighbors=7; total time=   0.0s\n",
      "[CV 3/5] END algorithm=ball_tree, leaf_size=32, n_neighbors=7; total time=   0.0s\n",
      "[CV 4/5] END algorithm=ball_tree, leaf_size=32, n_neighbors=7; total time=   0.0s\n",
      "[CV 5/5] END algorithm=ball_tree, leaf_size=32, n_neighbors=7; total time=   0.0s\n",
      "[CV 1/5] END algorithm=ball_tree, leaf_size=32, n_neighbors=9; total time=   0.0s\n",
      "[CV 2/5] END algorithm=ball_tree, leaf_size=32, n_neighbors=9; total time=   0.0s\n",
      "[CV 3/5] END algorithm=ball_tree, leaf_size=32, n_neighbors=9; total time=   0.0s\n",
      "[CV 4/5] END algorithm=ball_tree, leaf_size=32, n_neighbors=9; total time=   0.0s\n",
      "[CV 5/5] END algorithm=ball_tree, leaf_size=32, n_neighbors=9; total time=   0.0s\n",
      "[CV 1/5] END algorithm=ball_tree, leaf_size=32, n_neighbors=10; total time=   0.0s\n",
      "[CV 2/5] END algorithm=ball_tree, leaf_size=32, n_neighbors=10; total time=   0.0s\n",
      "[CV 3/5] END algorithm=ball_tree, leaf_size=32, n_neighbors=10; total time=   0.0s\n",
      "[CV 4/5] END algorithm=ball_tree, leaf_size=32, n_neighbors=10; total time=   0.0s\n",
      "[CV 5/5] END algorithm=ball_tree, leaf_size=32, n_neighbors=10; total time=   0.0s\n",
      "[CV 1/5] END algorithm=ball_tree, leaf_size=32, n_neighbors=11; total time=   0.0s\n",
      "[CV 2/5] END algorithm=ball_tree, leaf_size=32, n_neighbors=11; total time=   0.0s\n",
      "[CV 3/5] END algorithm=ball_tree, leaf_size=32, n_neighbors=11; total time=   0.0s\n",
      "[CV 4/5] END algorithm=ball_tree, leaf_size=32, n_neighbors=11; total time=   0.0s\n",
      "[CV 5/5] END algorithm=ball_tree, leaf_size=32, n_neighbors=11; total time=   0.0s\n",
      "[CV 1/5] END algorithm=ball_tree, leaf_size=32, n_neighbors=12; total time=   0.0s\n",
      "[CV 2/5] END algorithm=ball_tree, leaf_size=32, n_neighbors=12; total time=   0.0s\n",
      "[CV 3/5] END algorithm=ball_tree, leaf_size=32, n_neighbors=12; total time=   0.0s\n",
      "[CV 4/5] END algorithm=ball_tree, leaf_size=32, n_neighbors=12; total time=   0.0s\n",
      "[CV 5/5] END algorithm=ball_tree, leaf_size=32, n_neighbors=12; total time=   0.0s\n",
      "[CV 1/5] END algorithm=ball_tree, leaf_size=32, n_neighbors=13; total time=   0.0s\n",
      "[CV 2/5] END algorithm=ball_tree, leaf_size=32, n_neighbors=13; total time=   0.0s\n",
      "[CV 3/5] END algorithm=ball_tree, leaf_size=32, n_neighbors=13; total time=   0.0s\n",
      "[CV 4/5] END algorithm=ball_tree, leaf_size=32, n_neighbors=13; total time=   0.0s\n",
      "[CV 5/5] END algorithm=ball_tree, leaf_size=32, n_neighbors=13; total time=   0.0s\n",
      "[CV 1/5] END algorithm=ball_tree, leaf_size=34, n_neighbors=3; total time=   0.0s\n",
      "[CV 2/5] END algorithm=ball_tree, leaf_size=34, n_neighbors=3; total time=   0.0s\n",
      "[CV 3/5] END algorithm=ball_tree, leaf_size=34, n_neighbors=3; total time=   0.0s\n",
      "[CV 4/5] END algorithm=ball_tree, leaf_size=34, n_neighbors=3; total time=   0.0s\n",
      "[CV 5/5] END algorithm=ball_tree, leaf_size=34, n_neighbors=3; total time=   0.0s\n",
      "[CV 1/5] END algorithm=ball_tree, leaf_size=34, n_neighbors=5; total time=   0.0s\n",
      "[CV 2/5] END algorithm=ball_tree, leaf_size=34, n_neighbors=5; total time=   0.0s\n",
      "[CV 3/5] END algorithm=ball_tree, leaf_size=34, n_neighbors=5; total time=   0.0s\n",
      "[CV 4/5] END algorithm=ball_tree, leaf_size=34, n_neighbors=5; total time=   0.0s\n",
      "[CV 5/5] END algorithm=ball_tree, leaf_size=34, n_neighbors=5; total time=   0.0s\n",
      "[CV 1/5] END algorithm=ball_tree, leaf_size=34, n_neighbors=7; total time=   0.0s\n",
      "[CV 2/5] END algorithm=ball_tree, leaf_size=34, n_neighbors=7; total time=   0.0s\n",
      "[CV 3/5] END algorithm=ball_tree, leaf_size=34, n_neighbors=7; total time=   0.0s\n",
      "[CV 4/5] END algorithm=ball_tree, leaf_size=34, n_neighbors=7; total time=   0.0s\n",
      "[CV 5/5] END algorithm=ball_tree, leaf_size=34, n_neighbors=7; total time=   0.0s\n",
      "[CV 1/5] END algorithm=ball_tree, leaf_size=34, n_neighbors=9; total time=   0.0s\n",
      "[CV 2/5] END algorithm=ball_tree, leaf_size=34, n_neighbors=9; total time=   0.0s\n",
      "[CV 3/5] END algorithm=ball_tree, leaf_size=34, n_neighbors=9; total time=   0.0s\n",
      "[CV 4/5] END algorithm=ball_tree, leaf_size=34, n_neighbors=9; total time=   0.0s\n",
      "[CV 5/5] END algorithm=ball_tree, leaf_size=34, n_neighbors=9; total time=   0.0s\n",
      "[CV 1/5] END algorithm=ball_tree, leaf_size=34, n_neighbors=10; total time=   0.0s\n",
      "[CV 2/5] END algorithm=ball_tree, leaf_size=34, n_neighbors=10; total time=   0.0s\n",
      "[CV 3/5] END algorithm=ball_tree, leaf_size=34, n_neighbors=10; total time=   0.0s\n",
      "[CV 4/5] END algorithm=ball_tree, leaf_size=34, n_neighbors=10; total time=   0.0s\n",
      "[CV 5/5] END algorithm=ball_tree, leaf_size=34, n_neighbors=10; total time=   0.0s\n",
      "[CV 1/5] END algorithm=ball_tree, leaf_size=34, n_neighbors=11; total time=   0.0s\n",
      "[CV 2/5] END algorithm=ball_tree, leaf_size=34, n_neighbors=11; total time=   0.0s\n",
      "[CV 3/5] END algorithm=ball_tree, leaf_size=34, n_neighbors=11; total time=   0.0s\n",
      "[CV 4/5] END algorithm=ball_tree, leaf_size=34, n_neighbors=11; total time=   0.0s\n",
      "[CV 5/5] END algorithm=ball_tree, leaf_size=34, n_neighbors=11; total time=   0.0s\n",
      "[CV 1/5] END algorithm=ball_tree, leaf_size=34, n_neighbors=12; total time=   0.0s\n",
      "[CV 2/5] END algorithm=ball_tree, leaf_size=34, n_neighbors=12; total time=   0.0s\n",
      "[CV 3/5] END algorithm=ball_tree, leaf_size=34, n_neighbors=12; total time=   0.0s\n",
      "[CV 4/5] END algorithm=ball_tree, leaf_size=34, n_neighbors=12; total time=   0.0s\n",
      "[CV 5/5] END algorithm=ball_tree, leaf_size=34, n_neighbors=12; total time=   0.0s\n",
      "[CV 1/5] END algorithm=ball_tree, leaf_size=34, n_neighbors=13; total time=   0.0s\n",
      "[CV 2/5] END algorithm=ball_tree, leaf_size=34, n_neighbors=13; total time=   0.0s\n",
      "[CV 3/5] END algorithm=ball_tree, leaf_size=34, n_neighbors=13; total time=   0.0s\n",
      "[CV 4/5] END algorithm=ball_tree, leaf_size=34, n_neighbors=13; total time=   0.0s\n",
      "[CV 5/5] END algorithm=ball_tree, leaf_size=34, n_neighbors=13; total time=   0.0s\n",
      "[CV 1/5] END .algorithm=kd_tree, leaf_size=18, n_neighbors=3; total time=   0.0s\n",
      "[CV 2/5] END .algorithm=kd_tree, leaf_size=18, n_neighbors=3; total time=   0.0s\n",
      "[CV 3/5] END .algorithm=kd_tree, leaf_size=18, n_neighbors=3; total time=   0.0s\n",
      "[CV 4/5] END .algorithm=kd_tree, leaf_size=18, n_neighbors=3; total time=   0.0s\n",
      "[CV 5/5] END .algorithm=kd_tree, leaf_size=18, n_neighbors=3; total time=   0.0s\n",
      "[CV 1/5] END .algorithm=kd_tree, leaf_size=18, n_neighbors=5; total time=   0.0s\n",
      "[CV 2/5] END .algorithm=kd_tree, leaf_size=18, n_neighbors=5; total time=   0.0s\n",
      "[CV 3/5] END .algorithm=kd_tree, leaf_size=18, n_neighbors=5; total time=   0.0s\n",
      "[CV 4/5] END .algorithm=kd_tree, leaf_size=18, n_neighbors=5; total time=   0.0s\n",
      "[CV 5/5] END .algorithm=kd_tree, leaf_size=18, n_neighbors=5; total time=   0.0s\n",
      "[CV 1/5] END .algorithm=kd_tree, leaf_size=18, n_neighbors=7; total time=   0.0s\n",
      "[CV 2/5] END .algorithm=kd_tree, leaf_size=18, n_neighbors=7; total time=   0.0s\n",
      "[CV 3/5] END .algorithm=kd_tree, leaf_size=18, n_neighbors=7; total time=   0.0s\n",
      "[CV 4/5] END .algorithm=kd_tree, leaf_size=18, n_neighbors=7; total time=   0.0s\n",
      "[CV 5/5] END .algorithm=kd_tree, leaf_size=18, n_neighbors=7; total time=   0.0s\n",
      "[CV 1/5] END .algorithm=kd_tree, leaf_size=18, n_neighbors=9; total time=   0.0s\n",
      "[CV 2/5] END .algorithm=kd_tree, leaf_size=18, n_neighbors=9; total time=   0.0s\n",
      "[CV 3/5] END .algorithm=kd_tree, leaf_size=18, n_neighbors=9; total time=   0.0s\n",
      "[CV 4/5] END .algorithm=kd_tree, leaf_size=18, n_neighbors=9; total time=   0.0s\n",
      "[CV 5/5] END .algorithm=kd_tree, leaf_size=18, n_neighbors=9; total time=   0.0s\n",
      "[CV 1/5] END algorithm=kd_tree, leaf_size=18, n_neighbors=10; total time=   0.0s\n",
      "[CV 2/5] END algorithm=kd_tree, leaf_size=18, n_neighbors=10; total time=   0.0s\n",
      "[CV 3/5] END algorithm=kd_tree, leaf_size=18, n_neighbors=10; total time=   0.0s\n",
      "[CV 4/5] END algorithm=kd_tree, leaf_size=18, n_neighbors=10; total time=   0.0s\n"
     ]
    },
    {
     "name": "stdout",
     "output_type": "stream",
     "text": [
      "[CV 5/5] END algorithm=kd_tree, leaf_size=18, n_neighbors=10; total time=   0.0s\n",
      "[CV 1/5] END algorithm=kd_tree, leaf_size=18, n_neighbors=11; total time=   0.0s\n",
      "[CV 2/5] END algorithm=kd_tree, leaf_size=18, n_neighbors=11; total time=   0.0s\n",
      "[CV 3/5] END algorithm=kd_tree, leaf_size=18, n_neighbors=11; total time=   0.0s\n",
      "[CV 4/5] END algorithm=kd_tree, leaf_size=18, n_neighbors=11; total time=   0.0s\n",
      "[CV 5/5] END algorithm=kd_tree, leaf_size=18, n_neighbors=11; total time=   0.0s\n",
      "[CV 1/5] END algorithm=kd_tree, leaf_size=18, n_neighbors=12; total time=   0.0s\n",
      "[CV 2/5] END algorithm=kd_tree, leaf_size=18, n_neighbors=12; total time=   0.0s\n",
      "[CV 3/5] END algorithm=kd_tree, leaf_size=18, n_neighbors=12; total time=   0.0s\n",
      "[CV 4/5] END algorithm=kd_tree, leaf_size=18, n_neighbors=12; total time=   0.0s\n",
      "[CV 5/5] END algorithm=kd_tree, leaf_size=18, n_neighbors=12; total time=   0.0s\n",
      "[CV 1/5] END algorithm=kd_tree, leaf_size=18, n_neighbors=13; total time=   0.0s\n",
      "[CV 2/5] END algorithm=kd_tree, leaf_size=18, n_neighbors=13; total time=   0.0s\n",
      "[CV 3/5] END algorithm=kd_tree, leaf_size=18, n_neighbors=13; total time=   0.0s\n",
      "[CV 4/5] END algorithm=kd_tree, leaf_size=18, n_neighbors=13; total time=   0.0s\n",
      "[CV 5/5] END algorithm=kd_tree, leaf_size=18, n_neighbors=13; total time=   0.0s\n",
      "[CV 1/5] END .algorithm=kd_tree, leaf_size=20, n_neighbors=3; total time=   0.0s\n",
      "[CV 2/5] END .algorithm=kd_tree, leaf_size=20, n_neighbors=3; total time=   0.0s\n",
      "[CV 3/5] END .algorithm=kd_tree, leaf_size=20, n_neighbors=3; total time=   0.0s\n",
      "[CV 4/5] END .algorithm=kd_tree, leaf_size=20, n_neighbors=3; total time=   0.0s\n",
      "[CV 5/5] END .algorithm=kd_tree, leaf_size=20, n_neighbors=3; total time=   0.0s\n",
      "[CV 1/5] END .algorithm=kd_tree, leaf_size=20, n_neighbors=5; total time=   0.0s\n",
      "[CV 2/5] END .algorithm=kd_tree, leaf_size=20, n_neighbors=5; total time=   0.0s\n",
      "[CV 3/5] END .algorithm=kd_tree, leaf_size=20, n_neighbors=5; total time=   0.0s\n",
      "[CV 4/5] END .algorithm=kd_tree, leaf_size=20, n_neighbors=5; total time=   0.0s\n",
      "[CV 5/5] END .algorithm=kd_tree, leaf_size=20, n_neighbors=5; total time=   0.0s\n",
      "[CV 1/5] END .algorithm=kd_tree, leaf_size=20, n_neighbors=7; total time=   0.0s\n",
      "[CV 2/5] END .algorithm=kd_tree, leaf_size=20, n_neighbors=7; total time=   0.0s\n",
      "[CV 3/5] END .algorithm=kd_tree, leaf_size=20, n_neighbors=7; total time=   0.0s\n",
      "[CV 4/5] END .algorithm=kd_tree, leaf_size=20, n_neighbors=7; total time=   0.0s\n",
      "[CV 5/5] END .algorithm=kd_tree, leaf_size=20, n_neighbors=7; total time=   0.0s\n",
      "[CV 1/5] END .algorithm=kd_tree, leaf_size=20, n_neighbors=9; total time=   0.0s\n",
      "[CV 2/5] END .algorithm=kd_tree, leaf_size=20, n_neighbors=9; total time=   0.0s\n",
      "[CV 3/5] END .algorithm=kd_tree, leaf_size=20, n_neighbors=9; total time=   0.0s\n",
      "[CV 4/5] END .algorithm=kd_tree, leaf_size=20, n_neighbors=9; total time=   0.0s\n",
      "[CV 5/5] END .algorithm=kd_tree, leaf_size=20, n_neighbors=9; total time=   0.0s\n",
      "[CV 1/5] END algorithm=kd_tree, leaf_size=20, n_neighbors=10; total time=   0.0s\n",
      "[CV 2/5] END algorithm=kd_tree, leaf_size=20, n_neighbors=10; total time=   0.0s\n",
      "[CV 3/5] END algorithm=kd_tree, leaf_size=20, n_neighbors=10; total time=   0.0s\n",
      "[CV 4/5] END algorithm=kd_tree, leaf_size=20, n_neighbors=10; total time=   0.0s\n",
      "[CV 5/5] END algorithm=kd_tree, leaf_size=20, n_neighbors=10; total time=   0.0s\n",
      "[CV 1/5] END algorithm=kd_tree, leaf_size=20, n_neighbors=11; total time=   0.0s\n",
      "[CV 2/5] END algorithm=kd_tree, leaf_size=20, n_neighbors=11; total time=   0.0s\n",
      "[CV 3/5] END algorithm=kd_tree, leaf_size=20, n_neighbors=11; total time=   0.0s\n",
      "[CV 4/5] END algorithm=kd_tree, leaf_size=20, n_neighbors=11; total time=   0.0s\n",
      "[CV 5/5] END algorithm=kd_tree, leaf_size=20, n_neighbors=11; total time=   0.0s\n",
      "[CV 1/5] END algorithm=kd_tree, leaf_size=20, n_neighbors=12; total time=   0.0s\n",
      "[CV 2/5] END algorithm=kd_tree, leaf_size=20, n_neighbors=12; total time=   0.0s\n",
      "[CV 3/5] END algorithm=kd_tree, leaf_size=20, n_neighbors=12; total time=   0.0s\n",
      "[CV 4/5] END algorithm=kd_tree, leaf_size=20, n_neighbors=12; total time=   0.0s\n",
      "[CV 5/5] END algorithm=kd_tree, leaf_size=20, n_neighbors=12; total time=   0.0s\n",
      "[CV 1/5] END algorithm=kd_tree, leaf_size=20, n_neighbors=13; total time=   0.0s\n",
      "[CV 2/5] END algorithm=kd_tree, leaf_size=20, n_neighbors=13; total time=   0.0s\n",
      "[CV 3/5] END algorithm=kd_tree, leaf_size=20, n_neighbors=13; total time=   0.0s\n",
      "[CV 4/5] END algorithm=kd_tree, leaf_size=20, n_neighbors=13; total time=   0.0s\n",
      "[CV 5/5] END algorithm=kd_tree, leaf_size=20, n_neighbors=13; total time=   0.0s\n",
      "[CV 1/5] END .algorithm=kd_tree, leaf_size=25, n_neighbors=3; total time=   0.0s\n",
      "[CV 2/5] END .algorithm=kd_tree, leaf_size=25, n_neighbors=3; total time=   0.0s\n",
      "[CV 3/5] END .algorithm=kd_tree, leaf_size=25, n_neighbors=3; total time=   0.0s\n",
      "[CV 4/5] END .algorithm=kd_tree, leaf_size=25, n_neighbors=3; total time=   0.0s\n",
      "[CV 5/5] END .algorithm=kd_tree, leaf_size=25, n_neighbors=3; total time=   0.0s\n",
      "[CV 1/5] END .algorithm=kd_tree, leaf_size=25, n_neighbors=5; total time=   0.0s\n",
      "[CV 2/5] END .algorithm=kd_tree, leaf_size=25, n_neighbors=5; total time=   0.0s\n",
      "[CV 3/5] END .algorithm=kd_tree, leaf_size=25, n_neighbors=5; total time=   0.0s\n",
      "[CV 4/5] END .algorithm=kd_tree, leaf_size=25, n_neighbors=5; total time=   0.0s\n",
      "[CV 5/5] END .algorithm=kd_tree, leaf_size=25, n_neighbors=5; total time=   0.0s\n",
      "[CV 1/5] END .algorithm=kd_tree, leaf_size=25, n_neighbors=7; total time=   0.0s\n",
      "[CV 2/5] END .algorithm=kd_tree, leaf_size=25, n_neighbors=7; total time=   0.0s\n",
      "[CV 3/5] END .algorithm=kd_tree, leaf_size=25, n_neighbors=7; total time=   0.0s\n",
      "[CV 4/5] END .algorithm=kd_tree, leaf_size=25, n_neighbors=7; total time=   0.0s\n",
      "[CV 5/5] END .algorithm=kd_tree, leaf_size=25, n_neighbors=7; total time=   0.0s\n",
      "[CV 1/5] END .algorithm=kd_tree, leaf_size=25, n_neighbors=9; total time=   0.0s\n",
      "[CV 2/5] END .algorithm=kd_tree, leaf_size=25, n_neighbors=9; total time=   0.0s\n",
      "[CV 3/5] END .algorithm=kd_tree, leaf_size=25, n_neighbors=9; total time=   0.0s\n",
      "[CV 4/5] END .algorithm=kd_tree, leaf_size=25, n_neighbors=9; total time=   0.0s\n",
      "[CV 5/5] END .algorithm=kd_tree, leaf_size=25, n_neighbors=9; total time=   0.0s\n",
      "[CV 1/5] END algorithm=kd_tree, leaf_size=25, n_neighbors=10; total time=   0.0s\n",
      "[CV 2/5] END algorithm=kd_tree, leaf_size=25, n_neighbors=10; total time=   0.0s\n",
      "[CV 3/5] END algorithm=kd_tree, leaf_size=25, n_neighbors=10; total time=   0.0s\n",
      "[CV 4/5] END algorithm=kd_tree, leaf_size=25, n_neighbors=10; total time=   0.0s\n",
      "[CV 5/5] END algorithm=kd_tree, leaf_size=25, n_neighbors=10; total time=   0.0s\n",
      "[CV 1/5] END algorithm=kd_tree, leaf_size=25, n_neighbors=11; total time=   0.0s\n",
      "[CV 2/5] END algorithm=kd_tree, leaf_size=25, n_neighbors=11; total time=   0.0s\n",
      "[CV 3/5] END algorithm=kd_tree, leaf_size=25, n_neighbors=11; total time=   0.0s\n",
      "[CV 4/5] END algorithm=kd_tree, leaf_size=25, n_neighbors=11; total time=   0.0s\n",
      "[CV 5/5] END algorithm=kd_tree, leaf_size=25, n_neighbors=11; total time=   0.0s\n",
      "[CV 1/5] END algorithm=kd_tree, leaf_size=25, n_neighbors=12; total time=   0.0s\n",
      "[CV 2/5] END algorithm=kd_tree, leaf_size=25, n_neighbors=12; total time=   0.0s\n",
      "[CV 3/5] END algorithm=kd_tree, leaf_size=25, n_neighbors=12; total time=   0.0s\n",
      "[CV 4/5] END algorithm=kd_tree, leaf_size=25, n_neighbors=12; total time=   0.0s\n",
      "[CV 5/5] END algorithm=kd_tree, leaf_size=25, n_neighbors=12; total time=   0.0s\n",
      "[CV 1/5] END algorithm=kd_tree, leaf_size=25, n_neighbors=13; total time=   0.0s\n",
      "[CV 2/5] END algorithm=kd_tree, leaf_size=25, n_neighbors=13; total time=   0.0s\n",
      "[CV 3/5] END algorithm=kd_tree, leaf_size=25, n_neighbors=13; total time=   0.0s\n",
      "[CV 4/5] END algorithm=kd_tree, leaf_size=25, n_neighbors=13; total time=   0.0s\n",
      "[CV 5/5] END algorithm=kd_tree, leaf_size=25, n_neighbors=13; total time=   0.0s\n",
      "[CV 1/5] END .algorithm=kd_tree, leaf_size=27, n_neighbors=3; total time=   0.0s\n",
      "[CV 2/5] END .algorithm=kd_tree, leaf_size=27, n_neighbors=3; total time=   0.0s\n",
      "[CV 3/5] END .algorithm=kd_tree, leaf_size=27, n_neighbors=3; total time=   0.0s\n",
      "[CV 4/5] END .algorithm=kd_tree, leaf_size=27, n_neighbors=3; total time=   0.0s\n",
      "[CV 5/5] END .algorithm=kd_tree, leaf_size=27, n_neighbors=3; total time=   0.0s\n",
      "[CV 1/5] END .algorithm=kd_tree, leaf_size=27, n_neighbors=5; total time=   0.0s\n",
      "[CV 2/5] END .algorithm=kd_tree, leaf_size=27, n_neighbors=5; total time=   0.0s\n",
      "[CV 3/5] END .algorithm=kd_tree, leaf_size=27, n_neighbors=5; total time=   0.0s\n",
      "[CV 4/5] END .algorithm=kd_tree, leaf_size=27, n_neighbors=5; total time=   0.0s\n"
     ]
    },
    {
     "name": "stdout",
     "output_type": "stream",
     "text": [
      "[CV 5/5] END .algorithm=kd_tree, leaf_size=27, n_neighbors=5; total time=   0.0s\n",
      "[CV 1/5] END .algorithm=kd_tree, leaf_size=27, n_neighbors=7; total time=   0.0s\n",
      "[CV 2/5] END .algorithm=kd_tree, leaf_size=27, n_neighbors=7; total time=   0.0s\n",
      "[CV 3/5] END .algorithm=kd_tree, leaf_size=27, n_neighbors=7; total time=   0.0s\n",
      "[CV 4/5] END .algorithm=kd_tree, leaf_size=27, n_neighbors=7; total time=   0.0s\n",
      "[CV 5/5] END .algorithm=kd_tree, leaf_size=27, n_neighbors=7; total time=   0.0s\n",
      "[CV 1/5] END .algorithm=kd_tree, leaf_size=27, n_neighbors=9; total time=   0.0s\n",
      "[CV 2/5] END .algorithm=kd_tree, leaf_size=27, n_neighbors=9; total time=   0.0s\n",
      "[CV 3/5] END .algorithm=kd_tree, leaf_size=27, n_neighbors=9; total time=   0.0s\n",
      "[CV 4/5] END .algorithm=kd_tree, leaf_size=27, n_neighbors=9; total time=   0.0s\n",
      "[CV 5/5] END .algorithm=kd_tree, leaf_size=27, n_neighbors=9; total time=   0.0s\n",
      "[CV 1/5] END algorithm=kd_tree, leaf_size=27, n_neighbors=10; total time=   0.0s\n",
      "[CV 2/5] END algorithm=kd_tree, leaf_size=27, n_neighbors=10; total time=   0.0s\n",
      "[CV 3/5] END algorithm=kd_tree, leaf_size=27, n_neighbors=10; total time=   0.0s\n",
      "[CV 4/5] END algorithm=kd_tree, leaf_size=27, n_neighbors=10; total time=   0.0s\n",
      "[CV 5/5] END algorithm=kd_tree, leaf_size=27, n_neighbors=10; total time=   0.0s\n",
      "[CV 1/5] END algorithm=kd_tree, leaf_size=27, n_neighbors=11; total time=   0.0s\n",
      "[CV 2/5] END algorithm=kd_tree, leaf_size=27, n_neighbors=11; total time=   0.0s\n",
      "[CV 3/5] END algorithm=kd_tree, leaf_size=27, n_neighbors=11; total time=   0.0s\n",
      "[CV 4/5] END algorithm=kd_tree, leaf_size=27, n_neighbors=11; total time=   0.0s\n",
      "[CV 5/5] END algorithm=kd_tree, leaf_size=27, n_neighbors=11; total time=   0.0s\n",
      "[CV 1/5] END algorithm=kd_tree, leaf_size=27, n_neighbors=12; total time=   0.0s\n",
      "[CV 2/5] END algorithm=kd_tree, leaf_size=27, n_neighbors=12; total time=   0.0s\n",
      "[CV 3/5] END algorithm=kd_tree, leaf_size=27, n_neighbors=12; total time=   0.0s\n",
      "[CV 4/5] END algorithm=kd_tree, leaf_size=27, n_neighbors=12; total time=   0.0s\n",
      "[CV 5/5] END algorithm=kd_tree, leaf_size=27, n_neighbors=12; total time=   0.0s\n",
      "[CV 1/5] END algorithm=kd_tree, leaf_size=27, n_neighbors=13; total time=   0.0s\n",
      "[CV 2/5] END algorithm=kd_tree, leaf_size=27, n_neighbors=13; total time=   0.0s\n",
      "[CV 3/5] END algorithm=kd_tree, leaf_size=27, n_neighbors=13; total time=   0.0s\n",
      "[CV 4/5] END algorithm=kd_tree, leaf_size=27, n_neighbors=13; total time=   0.0s\n",
      "[CV 5/5] END algorithm=kd_tree, leaf_size=27, n_neighbors=13; total time=   0.0s\n",
      "[CV 1/5] END .algorithm=kd_tree, leaf_size=30, n_neighbors=3; total time=   0.0s\n",
      "[CV 2/5] END .algorithm=kd_tree, leaf_size=30, n_neighbors=3; total time=   0.0s\n",
      "[CV 3/5] END .algorithm=kd_tree, leaf_size=30, n_neighbors=3; total time=   0.0s\n",
      "[CV 4/5] END .algorithm=kd_tree, leaf_size=30, n_neighbors=3; total time=   0.0s\n",
      "[CV 5/5] END .algorithm=kd_tree, leaf_size=30, n_neighbors=3; total time=   0.0s\n",
      "[CV 1/5] END .algorithm=kd_tree, leaf_size=30, n_neighbors=5; total time=   0.0s\n",
      "[CV 2/5] END .algorithm=kd_tree, leaf_size=30, n_neighbors=5; total time=   0.0s\n",
      "[CV 3/5] END .algorithm=kd_tree, leaf_size=30, n_neighbors=5; total time=   0.0s\n",
      "[CV 4/5] END .algorithm=kd_tree, leaf_size=30, n_neighbors=5; total time=   0.0s\n",
      "[CV 5/5] END .algorithm=kd_tree, leaf_size=30, n_neighbors=5; total time=   0.0s\n",
      "[CV 1/5] END .algorithm=kd_tree, leaf_size=30, n_neighbors=7; total time=   0.0s\n",
      "[CV 2/5] END .algorithm=kd_tree, leaf_size=30, n_neighbors=7; total time=   0.0s\n",
      "[CV 3/5] END .algorithm=kd_tree, leaf_size=30, n_neighbors=7; total time=   0.0s\n",
      "[CV 4/5] END .algorithm=kd_tree, leaf_size=30, n_neighbors=7; total time=   0.0s\n",
      "[CV 5/5] END .algorithm=kd_tree, leaf_size=30, n_neighbors=7; total time=   0.0s\n",
      "[CV 1/5] END .algorithm=kd_tree, leaf_size=30, n_neighbors=9; total time=   0.0s\n",
      "[CV 2/5] END .algorithm=kd_tree, leaf_size=30, n_neighbors=9; total time=   0.0s\n",
      "[CV 3/5] END .algorithm=kd_tree, leaf_size=30, n_neighbors=9; total time=   0.0s\n",
      "[CV 4/5] END .algorithm=kd_tree, leaf_size=30, n_neighbors=9; total time=   0.0s\n",
      "[CV 5/5] END .algorithm=kd_tree, leaf_size=30, n_neighbors=9; total time=   0.0s\n",
      "[CV 1/5] END algorithm=kd_tree, leaf_size=30, n_neighbors=10; total time=   0.0s\n",
      "[CV 2/5] END algorithm=kd_tree, leaf_size=30, n_neighbors=10; total time=   0.0s\n",
      "[CV 3/5] END algorithm=kd_tree, leaf_size=30, n_neighbors=10; total time=   0.0s\n",
      "[CV 4/5] END algorithm=kd_tree, leaf_size=30, n_neighbors=10; total time=   0.0s\n",
      "[CV 5/5] END algorithm=kd_tree, leaf_size=30, n_neighbors=10; total time=   0.0s\n",
      "[CV 1/5] END algorithm=kd_tree, leaf_size=30, n_neighbors=11; total time=   0.0s\n",
      "[CV 2/5] END algorithm=kd_tree, leaf_size=30, n_neighbors=11; total time=   0.0s\n",
      "[CV 3/5] END algorithm=kd_tree, leaf_size=30, n_neighbors=11; total time=   0.0s\n",
      "[CV 4/5] END algorithm=kd_tree, leaf_size=30, n_neighbors=11; total time=   0.0s\n",
      "[CV 5/5] END algorithm=kd_tree, leaf_size=30, n_neighbors=11; total time=   0.0s\n",
      "[CV 1/5] END algorithm=kd_tree, leaf_size=30, n_neighbors=12; total time=   0.0s\n",
      "[CV 2/5] END algorithm=kd_tree, leaf_size=30, n_neighbors=12; total time=   0.0s\n",
      "[CV 3/5] END algorithm=kd_tree, leaf_size=30, n_neighbors=12; total time=   0.0s\n",
      "[CV 4/5] END algorithm=kd_tree, leaf_size=30, n_neighbors=12; total time=   0.0s\n",
      "[CV 5/5] END algorithm=kd_tree, leaf_size=30, n_neighbors=12; total time=   0.0s\n",
      "[CV 1/5] END algorithm=kd_tree, leaf_size=30, n_neighbors=13; total time=   0.0s\n",
      "[CV 2/5] END algorithm=kd_tree, leaf_size=30, n_neighbors=13; total time=   0.0s\n",
      "[CV 3/5] END algorithm=kd_tree, leaf_size=30, n_neighbors=13; total time=   0.0s\n",
      "[CV 4/5] END algorithm=kd_tree, leaf_size=30, n_neighbors=13; total time=   0.0s\n",
      "[CV 5/5] END algorithm=kd_tree, leaf_size=30, n_neighbors=13; total time=   0.0s\n",
      "[CV 1/5] END .algorithm=kd_tree, leaf_size=32, n_neighbors=3; total time=   0.0s\n",
      "[CV 2/5] END .algorithm=kd_tree, leaf_size=32, n_neighbors=3; total time=   0.0s\n",
      "[CV 3/5] END .algorithm=kd_tree, leaf_size=32, n_neighbors=3; total time=   0.0s\n",
      "[CV 4/5] END .algorithm=kd_tree, leaf_size=32, n_neighbors=3; total time=   0.0s\n",
      "[CV 5/5] END .algorithm=kd_tree, leaf_size=32, n_neighbors=3; total time=   0.0s\n",
      "[CV 1/5] END .algorithm=kd_tree, leaf_size=32, n_neighbors=5; total time=   0.0s\n",
      "[CV 2/5] END .algorithm=kd_tree, leaf_size=32, n_neighbors=5; total time=   0.0s\n",
      "[CV 3/5] END .algorithm=kd_tree, leaf_size=32, n_neighbors=5; total time=   0.0s\n",
      "[CV 4/5] END .algorithm=kd_tree, leaf_size=32, n_neighbors=5; total time=   0.0s\n",
      "[CV 5/5] END .algorithm=kd_tree, leaf_size=32, n_neighbors=5; total time=   0.0s\n",
      "[CV 1/5] END .algorithm=kd_tree, leaf_size=32, n_neighbors=7; total time=   0.0s\n",
      "[CV 2/5] END .algorithm=kd_tree, leaf_size=32, n_neighbors=7; total time=   0.0s\n",
      "[CV 3/5] END .algorithm=kd_tree, leaf_size=32, n_neighbors=7; total time=   0.0s\n",
      "[CV 4/5] END .algorithm=kd_tree, leaf_size=32, n_neighbors=7; total time=   0.0s\n",
      "[CV 5/5] END .algorithm=kd_tree, leaf_size=32, n_neighbors=7; total time=   0.0s\n",
      "[CV 1/5] END .algorithm=kd_tree, leaf_size=32, n_neighbors=9; total time=   0.0s\n",
      "[CV 2/5] END .algorithm=kd_tree, leaf_size=32, n_neighbors=9; total time=   0.0s\n",
      "[CV 3/5] END .algorithm=kd_tree, leaf_size=32, n_neighbors=9; total time=   0.0s\n",
      "[CV 4/5] END .algorithm=kd_tree, leaf_size=32, n_neighbors=9; total time=   0.0s\n",
      "[CV 5/5] END .algorithm=kd_tree, leaf_size=32, n_neighbors=9; total time=   0.0s\n",
      "[CV 1/5] END algorithm=kd_tree, leaf_size=32, n_neighbors=10; total time=   0.0s\n",
      "[CV 2/5] END algorithm=kd_tree, leaf_size=32, n_neighbors=10; total time=   0.0s\n",
      "[CV 3/5] END algorithm=kd_tree, leaf_size=32, n_neighbors=10; total time=   0.0s\n",
      "[CV 4/5] END algorithm=kd_tree, leaf_size=32, n_neighbors=10; total time=   0.0s\n",
      "[CV 5/5] END algorithm=kd_tree, leaf_size=32, n_neighbors=10; total time=   0.0s\n",
      "[CV 1/5] END algorithm=kd_tree, leaf_size=32, n_neighbors=11; total time=   0.0s\n",
      "[CV 2/5] END algorithm=kd_tree, leaf_size=32, n_neighbors=11; total time=   0.0s\n",
      "[CV 3/5] END algorithm=kd_tree, leaf_size=32, n_neighbors=11; total time=   0.0s\n",
      "[CV 4/5] END algorithm=kd_tree, leaf_size=32, n_neighbors=11; total time=   0.0s\n",
      "[CV 5/5] END algorithm=kd_tree, leaf_size=32, n_neighbors=11; total time=   0.0s\n",
      "[CV 1/5] END algorithm=kd_tree, leaf_size=32, n_neighbors=12; total time=   0.0s\n",
      "[CV 2/5] END algorithm=kd_tree, leaf_size=32, n_neighbors=12; total time=   0.0s\n",
      "[CV 3/5] END algorithm=kd_tree, leaf_size=32, n_neighbors=12; total time=   0.0s\n",
      "[CV 4/5] END algorithm=kd_tree, leaf_size=32, n_neighbors=12; total time=   0.0s\n",
      "[CV 5/5] END algorithm=kd_tree, leaf_size=32, n_neighbors=12; total time=   0.0s\n",
      "[CV 1/5] END algorithm=kd_tree, leaf_size=32, n_neighbors=13; total time=   0.0s\n",
      "[CV 2/5] END algorithm=kd_tree, leaf_size=32, n_neighbors=13; total time=   0.0s\n",
      "[CV 3/5] END algorithm=kd_tree, leaf_size=32, n_neighbors=13; total time=   0.0s\n",
      "[CV 4/5] END algorithm=kd_tree, leaf_size=32, n_neighbors=13; total time=   0.0s\n"
     ]
    },
    {
     "name": "stdout",
     "output_type": "stream",
     "text": [
      "[CV 5/5] END algorithm=kd_tree, leaf_size=32, n_neighbors=13; total time=   0.0s\n",
      "[CV 1/5] END .algorithm=kd_tree, leaf_size=34, n_neighbors=3; total time=   0.0s\n",
      "[CV 2/5] END .algorithm=kd_tree, leaf_size=34, n_neighbors=3; total time=   0.0s\n",
      "[CV 3/5] END .algorithm=kd_tree, leaf_size=34, n_neighbors=3; total time=   0.0s\n",
      "[CV 4/5] END .algorithm=kd_tree, leaf_size=34, n_neighbors=3; total time=   0.0s\n",
      "[CV 5/5] END .algorithm=kd_tree, leaf_size=34, n_neighbors=3; total time=   0.0s\n",
      "[CV 1/5] END .algorithm=kd_tree, leaf_size=34, n_neighbors=5; total time=   0.0s\n",
      "[CV 2/5] END .algorithm=kd_tree, leaf_size=34, n_neighbors=5; total time=   0.0s\n",
      "[CV 3/5] END .algorithm=kd_tree, leaf_size=34, n_neighbors=5; total time=   0.0s\n",
      "[CV 4/5] END .algorithm=kd_tree, leaf_size=34, n_neighbors=5; total time=   0.0s\n",
      "[CV 5/5] END .algorithm=kd_tree, leaf_size=34, n_neighbors=5; total time=   0.0s\n",
      "[CV 1/5] END .algorithm=kd_tree, leaf_size=34, n_neighbors=7; total time=   0.0s\n",
      "[CV 2/5] END .algorithm=kd_tree, leaf_size=34, n_neighbors=7; total time=   0.0s\n",
      "[CV 3/5] END .algorithm=kd_tree, leaf_size=34, n_neighbors=7; total time=   0.0s\n",
      "[CV 4/5] END .algorithm=kd_tree, leaf_size=34, n_neighbors=7; total time=   0.0s\n",
      "[CV 5/5] END .algorithm=kd_tree, leaf_size=34, n_neighbors=7; total time=   0.0s\n",
      "[CV 1/5] END .algorithm=kd_tree, leaf_size=34, n_neighbors=9; total time=   0.0s\n",
      "[CV 2/5] END .algorithm=kd_tree, leaf_size=34, n_neighbors=9; total time=   0.0s\n",
      "[CV 3/5] END .algorithm=kd_tree, leaf_size=34, n_neighbors=9; total time=   0.0s\n",
      "[CV 4/5] END .algorithm=kd_tree, leaf_size=34, n_neighbors=9; total time=   0.0s\n",
      "[CV 5/5] END .algorithm=kd_tree, leaf_size=34, n_neighbors=9; total time=   0.0s\n",
      "[CV 1/5] END algorithm=kd_tree, leaf_size=34, n_neighbors=10; total time=   0.0s\n",
      "[CV 2/5] END algorithm=kd_tree, leaf_size=34, n_neighbors=10; total time=   0.0s\n",
      "[CV 3/5] END algorithm=kd_tree, leaf_size=34, n_neighbors=10; total time=   0.0s\n",
      "[CV 4/5] END algorithm=kd_tree, leaf_size=34, n_neighbors=10; total time=   0.0s\n",
      "[CV 5/5] END algorithm=kd_tree, leaf_size=34, n_neighbors=10; total time=   0.0s\n",
      "[CV 1/5] END algorithm=kd_tree, leaf_size=34, n_neighbors=11; total time=   0.0s\n",
      "[CV 2/5] END algorithm=kd_tree, leaf_size=34, n_neighbors=11; total time=   0.0s\n",
      "[CV 3/5] END algorithm=kd_tree, leaf_size=34, n_neighbors=11; total time=   0.0s\n",
      "[CV 4/5] END algorithm=kd_tree, leaf_size=34, n_neighbors=11; total time=   0.0s\n",
      "[CV 5/5] END algorithm=kd_tree, leaf_size=34, n_neighbors=11; total time=   0.0s\n",
      "[CV 1/5] END algorithm=kd_tree, leaf_size=34, n_neighbors=12; total time=   0.0s\n",
      "[CV 2/5] END algorithm=kd_tree, leaf_size=34, n_neighbors=12; total time=   0.0s\n",
      "[CV 3/5] END algorithm=kd_tree, leaf_size=34, n_neighbors=12; total time=   0.0s\n",
      "[CV 4/5] END algorithm=kd_tree, leaf_size=34, n_neighbors=12; total time=   0.0s\n",
      "[CV 5/5] END algorithm=kd_tree, leaf_size=34, n_neighbors=12; total time=   0.0s\n",
      "[CV 1/5] END algorithm=kd_tree, leaf_size=34, n_neighbors=13; total time=   0.0s\n",
      "[CV 2/5] END algorithm=kd_tree, leaf_size=34, n_neighbors=13; total time=   0.0s\n",
      "[CV 3/5] END algorithm=kd_tree, leaf_size=34, n_neighbors=13; total time=   0.0s\n",
      "[CV 4/5] END algorithm=kd_tree, leaf_size=34, n_neighbors=13; total time=   0.0s\n",
      "[CV 5/5] END algorithm=kd_tree, leaf_size=34, n_neighbors=13; total time=   0.0s\n",
      "[CV 1/5] END ...algorithm=brute, leaf_size=18, n_neighbors=3; total time=   0.0s\n",
      "[CV 2/5] END ...algorithm=brute, leaf_size=18, n_neighbors=3; total time=   0.0s\n",
      "[CV 3/5] END ...algorithm=brute, leaf_size=18, n_neighbors=3; total time=   0.0s\n",
      "[CV 4/5] END ...algorithm=brute, leaf_size=18, n_neighbors=3; total time=   0.0s\n",
      "[CV 5/5] END ...algorithm=brute, leaf_size=18, n_neighbors=3; total time=   0.0s\n",
      "[CV 1/5] END ...algorithm=brute, leaf_size=18, n_neighbors=5; total time=   0.0s\n",
      "[CV 2/5] END ...algorithm=brute, leaf_size=18, n_neighbors=5; total time=   0.0s\n",
      "[CV 3/5] END ...algorithm=brute, leaf_size=18, n_neighbors=5; total time=   0.0s\n",
      "[CV 4/5] END ...algorithm=brute, leaf_size=18, n_neighbors=5; total time=   0.0s\n",
      "[CV 5/5] END ...algorithm=brute, leaf_size=18, n_neighbors=5; total time=   0.0s\n",
      "[CV 1/5] END ...algorithm=brute, leaf_size=18, n_neighbors=7; total time=   0.0s\n",
      "[CV 2/5] END ...algorithm=brute, leaf_size=18, n_neighbors=7; total time=   0.0s\n",
      "[CV 3/5] END ...algorithm=brute, leaf_size=18, n_neighbors=7; total time=   0.0s\n",
      "[CV 4/5] END ...algorithm=brute, leaf_size=18, n_neighbors=7; total time=   0.0s\n",
      "[CV 5/5] END ...algorithm=brute, leaf_size=18, n_neighbors=7; total time=   0.0s\n",
      "[CV 1/5] END ...algorithm=brute, leaf_size=18, n_neighbors=9; total time=   0.0s\n",
      "[CV 2/5] END ...algorithm=brute, leaf_size=18, n_neighbors=9; total time=   0.0s\n",
      "[CV 3/5] END ...algorithm=brute, leaf_size=18, n_neighbors=9; total time=   0.0s\n",
      "[CV 4/5] END ...algorithm=brute, leaf_size=18, n_neighbors=9; total time=   0.0s\n",
      "[CV 5/5] END ...algorithm=brute, leaf_size=18, n_neighbors=9; total time=   0.0s\n",
      "[CV 1/5] END ..algorithm=brute, leaf_size=18, n_neighbors=10; total time=   0.0s\n",
      "[CV 2/5] END ..algorithm=brute, leaf_size=18, n_neighbors=10; total time=   0.0s\n",
      "[CV 3/5] END ..algorithm=brute, leaf_size=18, n_neighbors=10; total time=   0.0s\n",
      "[CV 4/5] END ..algorithm=brute, leaf_size=18, n_neighbors=10; total time=   0.0s\n",
      "[CV 5/5] END ..algorithm=brute, leaf_size=18, n_neighbors=10; total time=   0.0s\n",
      "[CV 1/5] END ..algorithm=brute, leaf_size=18, n_neighbors=11; total time=   0.0s\n",
      "[CV 2/5] END ..algorithm=brute, leaf_size=18, n_neighbors=11; total time=   0.0s\n",
      "[CV 3/5] END ..algorithm=brute, leaf_size=18, n_neighbors=11; total time=   0.0s\n",
      "[CV 4/5] END ..algorithm=brute, leaf_size=18, n_neighbors=11; total time=   0.0s\n",
      "[CV 5/5] END ..algorithm=brute, leaf_size=18, n_neighbors=11; total time=   0.0s\n",
      "[CV 1/5] END ..algorithm=brute, leaf_size=18, n_neighbors=12; total time=   0.0s\n",
      "[CV 2/5] END ..algorithm=brute, leaf_size=18, n_neighbors=12; total time=   0.0s\n",
      "[CV 3/5] END ..algorithm=brute, leaf_size=18, n_neighbors=12; total time=   0.0s\n",
      "[CV 4/5] END ..algorithm=brute, leaf_size=18, n_neighbors=12; total time=   0.0s\n",
      "[CV 5/5] END ..algorithm=brute, leaf_size=18, n_neighbors=12; total time=   0.0s\n",
      "[CV 1/5] END ..algorithm=brute, leaf_size=18, n_neighbors=13; total time=   0.0s\n",
      "[CV 2/5] END ..algorithm=brute, leaf_size=18, n_neighbors=13; total time=   0.0s\n",
      "[CV 3/5] END ..algorithm=brute, leaf_size=18, n_neighbors=13; total time=   0.0s\n",
      "[CV 4/5] END ..algorithm=brute, leaf_size=18, n_neighbors=13; total time=   0.0s\n",
      "[CV 5/5] END ..algorithm=brute, leaf_size=18, n_neighbors=13; total time=   0.0s\n",
      "[CV 1/5] END ...algorithm=brute, leaf_size=20, n_neighbors=3; total time=   0.0s\n",
      "[CV 2/5] END ...algorithm=brute, leaf_size=20, n_neighbors=3; total time=   0.0s\n",
      "[CV 3/5] END ...algorithm=brute, leaf_size=20, n_neighbors=3; total time=   0.0s\n",
      "[CV 4/5] END ...algorithm=brute, leaf_size=20, n_neighbors=3; total time=   0.0s\n",
      "[CV 5/5] END ...algorithm=brute, leaf_size=20, n_neighbors=3; total time=   0.0s\n",
      "[CV 1/5] END ...algorithm=brute, leaf_size=20, n_neighbors=5; total time=   0.0s\n",
      "[CV 2/5] END ...algorithm=brute, leaf_size=20, n_neighbors=5; total time=   0.0s\n",
      "[CV 3/5] END ...algorithm=brute, leaf_size=20, n_neighbors=5; total time=   0.0s\n",
      "[CV 4/5] END ...algorithm=brute, leaf_size=20, n_neighbors=5; total time=   0.0s\n",
      "[CV 5/5] END ...algorithm=brute, leaf_size=20, n_neighbors=5; total time=   0.0s\n",
      "[CV 1/5] END ...algorithm=brute, leaf_size=20, n_neighbors=7; total time=   0.0s\n",
      "[CV 2/5] END ...algorithm=brute, leaf_size=20, n_neighbors=7; total time=   0.0s\n",
      "[CV 3/5] END ...algorithm=brute, leaf_size=20, n_neighbors=7; total time=   0.0s\n",
      "[CV 4/5] END ...algorithm=brute, leaf_size=20, n_neighbors=7; total time=   0.0s\n",
      "[CV 5/5] END ...algorithm=brute, leaf_size=20, n_neighbors=7; total time=   0.0s\n",
      "[CV 1/5] END ...algorithm=brute, leaf_size=20, n_neighbors=9; total time=   0.0s\n",
      "[CV 2/5] END ...algorithm=brute, leaf_size=20, n_neighbors=9; total time=   0.0s\n",
      "[CV 3/5] END ...algorithm=brute, leaf_size=20, n_neighbors=9; total time=   0.0s\n",
      "[CV 4/5] END ...algorithm=brute, leaf_size=20, n_neighbors=9; total time=   0.0s\n",
      "[CV 5/5] END ...algorithm=brute, leaf_size=20, n_neighbors=9; total time=   0.0s\n",
      "[CV 1/5] END ..algorithm=brute, leaf_size=20, n_neighbors=10; total time=   0.0s\n",
      "[CV 2/5] END ..algorithm=brute, leaf_size=20, n_neighbors=10; total time=   0.0s\n",
      "[CV 3/5] END ..algorithm=brute, leaf_size=20, n_neighbors=10; total time=   0.0s\n",
      "[CV 4/5] END ..algorithm=brute, leaf_size=20, n_neighbors=10; total time=   0.0s\n",
      "[CV 5/5] END ..algorithm=brute, leaf_size=20, n_neighbors=10; total time=   0.0s\n"
     ]
    },
    {
     "name": "stdout",
     "output_type": "stream",
     "text": [
      "[CV 1/5] END ..algorithm=brute, leaf_size=20, n_neighbors=11; total time=   0.0s\n",
      "[CV 2/5] END ..algorithm=brute, leaf_size=20, n_neighbors=11; total time=   0.0s\n",
      "[CV 3/5] END ..algorithm=brute, leaf_size=20, n_neighbors=11; total time=   0.0s\n",
      "[CV 4/5] END ..algorithm=brute, leaf_size=20, n_neighbors=11; total time=   0.0s\n",
      "[CV 5/5] END ..algorithm=brute, leaf_size=20, n_neighbors=11; total time=   0.0s\n",
      "[CV 1/5] END ..algorithm=brute, leaf_size=20, n_neighbors=12; total time=   0.0s\n",
      "[CV 2/5] END ..algorithm=brute, leaf_size=20, n_neighbors=12; total time=   0.0s\n",
      "[CV 3/5] END ..algorithm=brute, leaf_size=20, n_neighbors=12; total time=   0.0s\n",
      "[CV 4/5] END ..algorithm=brute, leaf_size=20, n_neighbors=12; total time=   0.0s\n",
      "[CV 5/5] END ..algorithm=brute, leaf_size=20, n_neighbors=12; total time=   0.0s\n",
      "[CV 1/5] END ..algorithm=brute, leaf_size=20, n_neighbors=13; total time=   0.0s\n",
      "[CV 2/5] END ..algorithm=brute, leaf_size=20, n_neighbors=13; total time=   0.0s\n",
      "[CV 3/5] END ..algorithm=brute, leaf_size=20, n_neighbors=13; total time=   0.0s\n",
      "[CV 4/5] END ..algorithm=brute, leaf_size=20, n_neighbors=13; total time=   0.0s\n",
      "[CV 5/5] END ..algorithm=brute, leaf_size=20, n_neighbors=13; total time=   0.0s\n",
      "[CV 1/5] END ...algorithm=brute, leaf_size=25, n_neighbors=3; total time=   0.0s\n",
      "[CV 2/5] END ...algorithm=brute, leaf_size=25, n_neighbors=3; total time=   0.0s\n",
      "[CV 3/5] END ...algorithm=brute, leaf_size=25, n_neighbors=3; total time=   0.0s\n",
      "[CV 4/5] END ...algorithm=brute, leaf_size=25, n_neighbors=3; total time=   0.0s\n",
      "[CV 5/5] END ...algorithm=brute, leaf_size=25, n_neighbors=3; total time=   0.0s\n",
      "[CV 1/5] END ...algorithm=brute, leaf_size=25, n_neighbors=5; total time=   0.0s\n",
      "[CV 2/5] END ...algorithm=brute, leaf_size=25, n_neighbors=5; total time=   0.0s\n",
      "[CV 3/5] END ...algorithm=brute, leaf_size=25, n_neighbors=5; total time=   0.0s\n",
      "[CV 4/5] END ...algorithm=brute, leaf_size=25, n_neighbors=5; total time=   0.0s\n",
      "[CV 5/5] END ...algorithm=brute, leaf_size=25, n_neighbors=5; total time=   0.0s\n",
      "[CV 1/5] END ...algorithm=brute, leaf_size=25, n_neighbors=7; total time=   0.0s\n",
      "[CV 2/5] END ...algorithm=brute, leaf_size=25, n_neighbors=7; total time=   0.0s\n",
      "[CV 3/5] END ...algorithm=brute, leaf_size=25, n_neighbors=7; total time=   0.0s\n",
      "[CV 4/5] END ...algorithm=brute, leaf_size=25, n_neighbors=7; total time=   0.0s\n",
      "[CV 5/5] END ...algorithm=brute, leaf_size=25, n_neighbors=7; total time=   0.0s\n",
      "[CV 1/5] END ...algorithm=brute, leaf_size=25, n_neighbors=9; total time=   0.0s\n",
      "[CV 2/5] END ...algorithm=brute, leaf_size=25, n_neighbors=9; total time=   0.0s\n",
      "[CV 3/5] END ...algorithm=brute, leaf_size=25, n_neighbors=9; total time=   0.0s\n",
      "[CV 4/5] END ...algorithm=brute, leaf_size=25, n_neighbors=9; total time=   0.0s\n",
      "[CV 5/5] END ...algorithm=brute, leaf_size=25, n_neighbors=9; total time=   0.0s\n",
      "[CV 1/5] END ..algorithm=brute, leaf_size=25, n_neighbors=10; total time=   0.0s\n",
      "[CV 2/5] END ..algorithm=brute, leaf_size=25, n_neighbors=10; total time=   0.0s\n",
      "[CV 3/5] END ..algorithm=brute, leaf_size=25, n_neighbors=10; total time=   0.0s\n",
      "[CV 4/5] END ..algorithm=brute, leaf_size=25, n_neighbors=10; total time=   0.0s\n",
      "[CV 5/5] END ..algorithm=brute, leaf_size=25, n_neighbors=10; total time=   0.0s\n",
      "[CV 1/5] END ..algorithm=brute, leaf_size=25, n_neighbors=11; total time=   0.0s\n",
      "[CV 2/5] END ..algorithm=brute, leaf_size=25, n_neighbors=11; total time=   0.0s\n",
      "[CV 3/5] END ..algorithm=brute, leaf_size=25, n_neighbors=11; total time=   0.0s\n",
      "[CV 4/5] END ..algorithm=brute, leaf_size=25, n_neighbors=11; total time=   0.0s\n",
      "[CV 5/5] END ..algorithm=brute, leaf_size=25, n_neighbors=11; total time=   0.0s\n",
      "[CV 1/5] END ..algorithm=brute, leaf_size=25, n_neighbors=12; total time=   0.0s\n",
      "[CV 2/5] END ..algorithm=brute, leaf_size=25, n_neighbors=12; total time=   0.0s\n",
      "[CV 3/5] END ..algorithm=brute, leaf_size=25, n_neighbors=12; total time=   0.0s\n",
      "[CV 4/5] END ..algorithm=brute, leaf_size=25, n_neighbors=12; total time=   0.0s\n",
      "[CV 5/5] END ..algorithm=brute, leaf_size=25, n_neighbors=12; total time=   0.0s\n",
      "[CV 1/5] END ..algorithm=brute, leaf_size=25, n_neighbors=13; total time=   0.0s\n",
      "[CV 2/5] END ..algorithm=brute, leaf_size=25, n_neighbors=13; total time=   0.0s\n",
      "[CV 3/5] END ..algorithm=brute, leaf_size=25, n_neighbors=13; total time=   0.0s\n",
      "[CV 4/5] END ..algorithm=brute, leaf_size=25, n_neighbors=13; total time=   0.0s\n",
      "[CV 5/5] END ..algorithm=brute, leaf_size=25, n_neighbors=13; total time=   0.0s\n",
      "[CV 1/5] END ...algorithm=brute, leaf_size=27, n_neighbors=3; total time=   0.0s\n",
      "[CV 2/5] END ...algorithm=brute, leaf_size=27, n_neighbors=3; total time=   0.0s\n",
      "[CV 3/5] END ...algorithm=brute, leaf_size=27, n_neighbors=3; total time=   0.0s\n",
      "[CV 4/5] END ...algorithm=brute, leaf_size=27, n_neighbors=3; total time=   0.0s\n",
      "[CV 5/5] END ...algorithm=brute, leaf_size=27, n_neighbors=3; total time=   0.0s\n",
      "[CV 1/5] END ...algorithm=brute, leaf_size=27, n_neighbors=5; total time=   0.0s\n",
      "[CV 2/5] END ...algorithm=brute, leaf_size=27, n_neighbors=5; total time=   0.0s\n",
      "[CV 3/5] END ...algorithm=brute, leaf_size=27, n_neighbors=5; total time=   0.0s\n",
      "[CV 4/5] END ...algorithm=brute, leaf_size=27, n_neighbors=5; total time=   0.0s\n",
      "[CV 5/5] END ...algorithm=brute, leaf_size=27, n_neighbors=5; total time=   0.0s\n",
      "[CV 1/5] END ...algorithm=brute, leaf_size=27, n_neighbors=7; total time=   0.0s\n",
      "[CV 2/5] END ...algorithm=brute, leaf_size=27, n_neighbors=7; total time=   0.0s\n",
      "[CV 3/5] END ...algorithm=brute, leaf_size=27, n_neighbors=7; total time=   0.0s\n",
      "[CV 4/5] END ...algorithm=brute, leaf_size=27, n_neighbors=7; total time=   0.0s\n",
      "[CV 5/5] END ...algorithm=brute, leaf_size=27, n_neighbors=7; total time=   0.0s\n",
      "[CV 1/5] END ...algorithm=brute, leaf_size=27, n_neighbors=9; total time=   0.0s\n",
      "[CV 2/5] END ...algorithm=brute, leaf_size=27, n_neighbors=9; total time=   0.0s\n",
      "[CV 3/5] END ...algorithm=brute, leaf_size=27, n_neighbors=9; total time=   0.0s\n",
      "[CV 4/5] END ...algorithm=brute, leaf_size=27, n_neighbors=9; total time=   0.0s\n",
      "[CV 5/5] END ...algorithm=brute, leaf_size=27, n_neighbors=9; total time=   0.0s\n",
      "[CV 1/5] END ..algorithm=brute, leaf_size=27, n_neighbors=10; total time=   0.0s\n",
      "[CV 2/5] END ..algorithm=brute, leaf_size=27, n_neighbors=10; total time=   0.0s\n",
      "[CV 3/5] END ..algorithm=brute, leaf_size=27, n_neighbors=10; total time=   0.0s\n",
      "[CV 4/5] END ..algorithm=brute, leaf_size=27, n_neighbors=10; total time=   0.0s\n",
      "[CV 5/5] END ..algorithm=brute, leaf_size=27, n_neighbors=10; total time=   0.0s\n",
      "[CV 1/5] END ..algorithm=brute, leaf_size=27, n_neighbors=11; total time=   0.0s\n",
      "[CV 2/5] END ..algorithm=brute, leaf_size=27, n_neighbors=11; total time=   0.0s\n",
      "[CV 3/5] END ..algorithm=brute, leaf_size=27, n_neighbors=11; total time=   0.0s\n",
      "[CV 4/5] END ..algorithm=brute, leaf_size=27, n_neighbors=11; total time=   0.0s\n",
      "[CV 5/5] END ..algorithm=brute, leaf_size=27, n_neighbors=11; total time=   0.0s\n",
      "[CV 1/5] END ..algorithm=brute, leaf_size=27, n_neighbors=12; total time=   0.0s\n",
      "[CV 2/5] END ..algorithm=brute, leaf_size=27, n_neighbors=12; total time=   0.0s\n",
      "[CV 3/5] END ..algorithm=brute, leaf_size=27, n_neighbors=12; total time=   0.0s\n",
      "[CV 4/5] END ..algorithm=brute, leaf_size=27, n_neighbors=12; total time=   0.0s\n",
      "[CV 5/5] END ..algorithm=brute, leaf_size=27, n_neighbors=12; total time=   0.0s\n",
      "[CV 1/5] END ..algorithm=brute, leaf_size=27, n_neighbors=13; total time=   0.0s\n",
      "[CV 2/5] END ..algorithm=brute, leaf_size=27, n_neighbors=13; total time=   0.0s\n",
      "[CV 3/5] END ..algorithm=brute, leaf_size=27, n_neighbors=13; total time=   0.0s\n",
      "[CV 4/5] END ..algorithm=brute, leaf_size=27, n_neighbors=13; total time=   0.0s\n",
      "[CV 5/5] END ..algorithm=brute, leaf_size=27, n_neighbors=13; total time=   0.0s\n",
      "[CV 1/5] END ...algorithm=brute, leaf_size=30, n_neighbors=3; total time=   0.0s\n",
      "[CV 2/5] END ...algorithm=brute, leaf_size=30, n_neighbors=3; total time=   0.0s\n",
      "[CV 3/5] END ...algorithm=brute, leaf_size=30, n_neighbors=3; total time=   0.0s\n",
      "[CV 4/5] END ...algorithm=brute, leaf_size=30, n_neighbors=3; total time=   0.0s\n",
      "[CV 5/5] END ...algorithm=brute, leaf_size=30, n_neighbors=3; total time=   0.0s\n",
      "[CV 1/5] END ...algorithm=brute, leaf_size=30, n_neighbors=5; total time=   0.0s\n",
      "[CV 2/5] END ...algorithm=brute, leaf_size=30, n_neighbors=5; total time=   0.0s\n",
      "[CV 3/5] END ...algorithm=brute, leaf_size=30, n_neighbors=5; total time=   0.0s\n",
      "[CV 4/5] END ...algorithm=brute, leaf_size=30, n_neighbors=5; total time=   0.0s\n",
      "[CV 5/5] END ...algorithm=brute, leaf_size=30, n_neighbors=5; total time=   0.0s\n"
     ]
    },
    {
     "name": "stdout",
     "output_type": "stream",
     "text": [
      "[CV 1/5] END ...algorithm=brute, leaf_size=30, n_neighbors=7; total time=   0.0s\n",
      "[CV 2/5] END ...algorithm=brute, leaf_size=30, n_neighbors=7; total time=   0.0s\n",
      "[CV 3/5] END ...algorithm=brute, leaf_size=30, n_neighbors=7; total time=   0.0s\n",
      "[CV 4/5] END ...algorithm=brute, leaf_size=30, n_neighbors=7; total time=   0.0s\n",
      "[CV 5/5] END ...algorithm=brute, leaf_size=30, n_neighbors=7; total time=   0.0s\n",
      "[CV 1/5] END ...algorithm=brute, leaf_size=30, n_neighbors=9; total time=   0.0s\n",
      "[CV 2/5] END ...algorithm=brute, leaf_size=30, n_neighbors=9; total time=   0.0s\n",
      "[CV 3/5] END ...algorithm=brute, leaf_size=30, n_neighbors=9; total time=   0.0s\n",
      "[CV 4/5] END ...algorithm=brute, leaf_size=30, n_neighbors=9; total time=   0.0s\n",
      "[CV 5/5] END ...algorithm=brute, leaf_size=30, n_neighbors=9; total time=   0.0s\n",
      "[CV 1/5] END ..algorithm=brute, leaf_size=30, n_neighbors=10; total time=   0.0s\n",
      "[CV 2/5] END ..algorithm=brute, leaf_size=30, n_neighbors=10; total time=   0.0s\n",
      "[CV 3/5] END ..algorithm=brute, leaf_size=30, n_neighbors=10; total time=   0.0s\n",
      "[CV 4/5] END ..algorithm=brute, leaf_size=30, n_neighbors=10; total time=   0.0s\n",
      "[CV 5/5] END ..algorithm=brute, leaf_size=30, n_neighbors=10; total time=   0.0s\n",
      "[CV 1/5] END ..algorithm=brute, leaf_size=30, n_neighbors=11; total time=   0.0s\n",
      "[CV 2/5] END ..algorithm=brute, leaf_size=30, n_neighbors=11; total time=   0.0s\n",
      "[CV 3/5] END ..algorithm=brute, leaf_size=30, n_neighbors=11; total time=   0.0s\n",
      "[CV 4/5] END ..algorithm=brute, leaf_size=30, n_neighbors=11; total time=   0.0s\n",
      "[CV 5/5] END ..algorithm=brute, leaf_size=30, n_neighbors=11; total time=   0.0s\n",
      "[CV 1/5] END ..algorithm=brute, leaf_size=30, n_neighbors=12; total time=   0.0s\n",
      "[CV 2/5] END ..algorithm=brute, leaf_size=30, n_neighbors=12; total time=   0.0s\n",
      "[CV 3/5] END ..algorithm=brute, leaf_size=30, n_neighbors=12; total time=   0.0s\n",
      "[CV 4/5] END ..algorithm=brute, leaf_size=30, n_neighbors=12; total time=   0.0s\n",
      "[CV 5/5] END ..algorithm=brute, leaf_size=30, n_neighbors=12; total time=   0.0s\n",
      "[CV 1/5] END ..algorithm=brute, leaf_size=30, n_neighbors=13; total time=   0.0s\n",
      "[CV 2/5] END ..algorithm=brute, leaf_size=30, n_neighbors=13; total time=   0.0s\n",
      "[CV 3/5] END ..algorithm=brute, leaf_size=30, n_neighbors=13; total time=   0.0s\n",
      "[CV 4/5] END ..algorithm=brute, leaf_size=30, n_neighbors=13; total time=   0.0s\n",
      "[CV 5/5] END ..algorithm=brute, leaf_size=30, n_neighbors=13; total time=   0.0s\n",
      "[CV 1/5] END ...algorithm=brute, leaf_size=32, n_neighbors=3; total time=   0.0s\n",
      "[CV 2/5] END ...algorithm=brute, leaf_size=32, n_neighbors=3; total time=   0.0s\n",
      "[CV 3/5] END ...algorithm=brute, leaf_size=32, n_neighbors=3; total time=   0.0s\n",
      "[CV 4/5] END ...algorithm=brute, leaf_size=32, n_neighbors=3; total time=   0.0s\n",
      "[CV 5/5] END ...algorithm=brute, leaf_size=32, n_neighbors=3; total time=   0.0s\n",
      "[CV 1/5] END ...algorithm=brute, leaf_size=32, n_neighbors=5; total time=   0.0s\n",
      "[CV 2/5] END ...algorithm=brute, leaf_size=32, n_neighbors=5; total time=   0.0s\n",
      "[CV 3/5] END ...algorithm=brute, leaf_size=32, n_neighbors=5; total time=   0.0s\n",
      "[CV 4/5] END ...algorithm=brute, leaf_size=32, n_neighbors=5; total time=   0.0s\n",
      "[CV 5/5] END ...algorithm=brute, leaf_size=32, n_neighbors=5; total time=   0.0s\n",
      "[CV 1/5] END ...algorithm=brute, leaf_size=32, n_neighbors=7; total time=   0.0s\n",
      "[CV 2/5] END ...algorithm=brute, leaf_size=32, n_neighbors=7; total time=   0.0s\n",
      "[CV 3/5] END ...algorithm=brute, leaf_size=32, n_neighbors=7; total time=   0.0s\n",
      "[CV 4/5] END ...algorithm=brute, leaf_size=32, n_neighbors=7; total time=   0.0s\n",
      "[CV 5/5] END ...algorithm=brute, leaf_size=32, n_neighbors=7; total time=   0.0s\n",
      "[CV 1/5] END ...algorithm=brute, leaf_size=32, n_neighbors=9; total time=   0.0s\n",
      "[CV 2/5] END ...algorithm=brute, leaf_size=32, n_neighbors=9; total time=   0.0s\n",
      "[CV 3/5] END ...algorithm=brute, leaf_size=32, n_neighbors=9; total time=   0.0s\n",
      "[CV 4/5] END ...algorithm=brute, leaf_size=32, n_neighbors=9; total time=   0.0s\n",
      "[CV 5/5] END ...algorithm=brute, leaf_size=32, n_neighbors=9; total time=   0.0s\n",
      "[CV 1/5] END ..algorithm=brute, leaf_size=32, n_neighbors=10; total time=   0.0s\n",
      "[CV 2/5] END ..algorithm=brute, leaf_size=32, n_neighbors=10; total time=   0.0s\n",
      "[CV 3/5] END ..algorithm=brute, leaf_size=32, n_neighbors=10; total time=   0.0s\n",
      "[CV 4/5] END ..algorithm=brute, leaf_size=32, n_neighbors=10; total time=   0.0s\n",
      "[CV 5/5] END ..algorithm=brute, leaf_size=32, n_neighbors=10; total time=   0.0s\n",
      "[CV 1/5] END ..algorithm=brute, leaf_size=32, n_neighbors=11; total time=   0.0s\n",
      "[CV 2/5] END ..algorithm=brute, leaf_size=32, n_neighbors=11; total time=   0.0s\n",
      "[CV 3/5] END ..algorithm=brute, leaf_size=32, n_neighbors=11; total time=   0.0s\n",
      "[CV 4/5] END ..algorithm=brute, leaf_size=32, n_neighbors=11; total time=   0.0s\n",
      "[CV 5/5] END ..algorithm=brute, leaf_size=32, n_neighbors=11; total time=   0.0s\n",
      "[CV 1/5] END ..algorithm=brute, leaf_size=32, n_neighbors=12; total time=   0.0s\n",
      "[CV 2/5] END ..algorithm=brute, leaf_size=32, n_neighbors=12; total time=   0.0s\n",
      "[CV 3/5] END ..algorithm=brute, leaf_size=32, n_neighbors=12; total time=   0.0s\n",
      "[CV 4/5] END ..algorithm=brute, leaf_size=32, n_neighbors=12; total time=   0.0s\n",
      "[CV 5/5] END ..algorithm=brute, leaf_size=32, n_neighbors=12; total time=   0.0s\n",
      "[CV 1/5] END ..algorithm=brute, leaf_size=32, n_neighbors=13; total time=   0.0s\n",
      "[CV 2/5] END ..algorithm=brute, leaf_size=32, n_neighbors=13; total time=   0.0s\n",
      "[CV 3/5] END ..algorithm=brute, leaf_size=32, n_neighbors=13; total time=   0.0s\n",
      "[CV 4/5] END ..algorithm=brute, leaf_size=32, n_neighbors=13; total time=   0.0s\n",
      "[CV 5/5] END ..algorithm=brute, leaf_size=32, n_neighbors=13; total time=   0.0s\n",
      "[CV 1/5] END ...algorithm=brute, leaf_size=34, n_neighbors=3; total time=   0.0s\n",
      "[CV 2/5] END ...algorithm=brute, leaf_size=34, n_neighbors=3; total time=   0.0s\n",
      "[CV 3/5] END ...algorithm=brute, leaf_size=34, n_neighbors=3; total time=   0.0s\n",
      "[CV 4/5] END ...algorithm=brute, leaf_size=34, n_neighbors=3; total time=   0.0s\n",
      "[CV 5/5] END ...algorithm=brute, leaf_size=34, n_neighbors=3; total time=   0.0s\n",
      "[CV 1/5] END ...algorithm=brute, leaf_size=34, n_neighbors=5; total time=   0.0s\n",
      "[CV 2/5] END ...algorithm=brute, leaf_size=34, n_neighbors=5; total time=   0.0s\n",
      "[CV 3/5] END ...algorithm=brute, leaf_size=34, n_neighbors=5; total time=   0.0s\n",
      "[CV 4/5] END ...algorithm=brute, leaf_size=34, n_neighbors=5; total time=   0.0s\n",
      "[CV 5/5] END ...algorithm=brute, leaf_size=34, n_neighbors=5; total time=   0.0s\n",
      "[CV 1/5] END ...algorithm=brute, leaf_size=34, n_neighbors=7; total time=   0.0s\n",
      "[CV 2/5] END ...algorithm=brute, leaf_size=34, n_neighbors=7; total time=   0.0s\n",
      "[CV 3/5] END ...algorithm=brute, leaf_size=34, n_neighbors=7; total time=   0.0s\n",
      "[CV 4/5] END ...algorithm=brute, leaf_size=34, n_neighbors=7; total time=   0.0s\n",
      "[CV 5/5] END ...algorithm=brute, leaf_size=34, n_neighbors=7; total time=   0.0s\n",
      "[CV 1/5] END ...algorithm=brute, leaf_size=34, n_neighbors=9; total time=   0.0s\n",
      "[CV 2/5] END ...algorithm=brute, leaf_size=34, n_neighbors=9; total time=   0.0s\n",
      "[CV 3/5] END ...algorithm=brute, leaf_size=34, n_neighbors=9; total time=   0.0s\n",
      "[CV 4/5] END ...algorithm=brute, leaf_size=34, n_neighbors=9; total time=   0.0s\n",
      "[CV 5/5] END ...algorithm=brute, leaf_size=34, n_neighbors=9; total time=   0.0s\n",
      "[CV 1/5] END ..algorithm=brute, leaf_size=34, n_neighbors=10; total time=   0.0s\n",
      "[CV 2/5] END ..algorithm=brute, leaf_size=34, n_neighbors=10; total time=   0.0s\n",
      "[CV 3/5] END ..algorithm=brute, leaf_size=34, n_neighbors=10; total time=   0.0s\n",
      "[CV 4/5] END ..algorithm=brute, leaf_size=34, n_neighbors=10; total time=   0.0s\n",
      "[CV 5/5] END ..algorithm=brute, leaf_size=34, n_neighbors=10; total time=   0.0s\n",
      "[CV 1/5] END ..algorithm=brute, leaf_size=34, n_neighbors=11; total time=   0.0s\n",
      "[CV 2/5] END ..algorithm=brute, leaf_size=34, n_neighbors=11; total time=   0.0s\n",
      "[CV 3/5] END ..algorithm=brute, leaf_size=34, n_neighbors=11; total time=   0.0s\n",
      "[CV 4/5] END ..algorithm=brute, leaf_size=34, n_neighbors=11; total time=   0.0s\n",
      "[CV 5/5] END ..algorithm=brute, leaf_size=34, n_neighbors=11; total time=   0.0s\n",
      "[CV 1/5] END ..algorithm=brute, leaf_size=34, n_neighbors=12; total time=   0.0s\n",
      "[CV 2/5] END ..algorithm=brute, leaf_size=34, n_neighbors=12; total time=   0.0s\n"
     ]
    },
    {
     "name": "stdout",
     "output_type": "stream",
     "text": [
      "[CV 3/5] END ..algorithm=brute, leaf_size=34, n_neighbors=12; total time=   0.0s\n",
      "[CV 4/5] END ..algorithm=brute, leaf_size=34, n_neighbors=12; total time=   0.0s\n",
      "[CV 5/5] END ..algorithm=brute, leaf_size=34, n_neighbors=12; total time=   0.0s\n",
      "[CV 1/5] END ..algorithm=brute, leaf_size=34, n_neighbors=13; total time=   0.0s\n",
      "[CV 2/5] END ..algorithm=brute, leaf_size=34, n_neighbors=13; total time=   0.0s\n",
      "[CV 3/5] END ..algorithm=brute, leaf_size=34, n_neighbors=13; total time=   0.0s\n",
      "[CV 4/5] END ..algorithm=brute, leaf_size=34, n_neighbors=13; total time=   0.0s\n",
      "[CV 5/5] END ..algorithm=brute, leaf_size=34, n_neighbors=13; total time=   0.0s\n"
     ]
    },
    {
     "data": {
      "text/plain": [
       "GridSearchCV(estimator=KNeighborsClassifier(),\n",
       "             param_grid={'algorithm': ['ball_tree', 'kd_tree', 'brute'],\n",
       "                         'leaf_size': [18, 20, 25, 27, 30, 32, 34],\n",
       "                         'n_neighbors': [3, 5, 7, 9, 10, 11, 12, 13]},\n",
       "             verbose=3)"
      ]
     },
     "execution_count": 23,
     "metadata": {},
     "output_type": "execute_result"
    }
   ],
   "source": [
    "gridsearch.fit(x_train,y_train)"
   ]
  },
  {
   "cell_type": "code",
   "execution_count": 24,
   "metadata": {},
   "outputs": [
    {
     "data": {
      "text/plain": [
       "{'algorithm': 'ball_tree', 'leaf_size': 18, 'n_neighbors': 5}"
      ]
     },
     "execution_count": 24,
     "metadata": {},
     "output_type": "execute_result"
    }
   ],
   "source": [
    "# let's see the  best parameters according to gridsearch\n",
    "gridsearch.best_params_"
   ]
  },
  {
   "cell_type": "code",
   "execution_count": 25,
   "metadata": {},
   "outputs": [],
   "source": [
    "# we will use the best parameters in our k-NN algorithm and check if accuracy is increasing.\n",
    "knn_1 = KNeighborsClassifier(algorithm = 'ball_tree', leaf_size =18, n_neighbors =9)"
   ]
  },
  {
   "cell_type": "code",
   "execution_count": 26,
   "metadata": {},
   "outputs": [
    {
     "data": {
      "text/plain": [
       "KNeighborsClassifier(algorithm='ball_tree', leaf_size=18, n_neighbors=9)"
      ]
     },
     "execution_count": 26,
     "metadata": {},
     "output_type": "execute_result"
    }
   ],
   "source": [
    "knn_1.fit(x_train,y_train)"
   ]
  },
  {
   "cell_type": "code",
   "execution_count": 27,
   "metadata": {},
   "outputs": [
    {
     "data": {
      "text/plain": [
       "0.9579326923076923"
      ]
     },
     "execution_count": 27,
     "metadata": {},
     "output_type": "execute_result"
    }
   ],
   "source": [
    "knn_1.score(x_train,y_train)"
   ]
  },
  {
   "cell_type": "code",
   "execution_count": 28,
   "metadata": {},
   "outputs": [
    {
     "data": {
      "text/plain": [
       "0.9459459459459459"
      ]
     },
     "execution_count": 28,
     "metadata": {},
     "output_type": "execute_result"
    }
   ],
   "source": [
    "knn_1.score(x_test,y_test)"
   ]
  },
  {
   "cell_type": "markdown",
   "metadata": {},
   "source": [
    "accuracy of KNN is 94.59%"
   ]
  },
  {
   "cell_type": "markdown",
   "metadata": {},
   "source": [
    "# SVM"
   ]
  },
  {
   "cell_type": "code",
   "execution_count": 29,
   "metadata": {},
   "outputs": [],
   "source": [
    "from sklearn.svm import SVC"
   ]
  },
  {
   "cell_type": "code",
   "execution_count": 30,
   "metadata": {},
   "outputs": [],
   "source": [
    "model=SVC()"
   ]
  },
  {
   "cell_type": "code",
   "execution_count": 31,
   "metadata": {},
   "outputs": [],
   "source": [
    "#hyperparameter tuning\n",
    "param_grid={'C':[0.1,1,0.2,0.5],'gamma':[1,0.5,00.001]}"
   ]
  },
  {
   "cell_type": "code",
   "execution_count": 32,
   "metadata": {},
   "outputs": [],
   "source": [
    "grid= GridSearchCV(SVC(),param_grid, verbose=3, n_jobs=-1)"
   ]
  },
  {
   "cell_type": "code",
   "execution_count": 33,
   "metadata": {},
   "outputs": [
    {
     "name": "stdout",
     "output_type": "stream",
     "text": [
      "Fitting 5 folds for each of 12 candidates, totalling 60 fits\n"
     ]
    },
    {
     "data": {
      "text/plain": [
       "GridSearchCV(estimator=SVC(), n_jobs=-1,\n",
       "             param_grid={'C': [0.1, 1, 0.2, 0.5], 'gamma': [1, 0.5, 0.001]},\n",
       "             verbose=3)"
      ]
     },
     "execution_count": 33,
     "metadata": {},
     "output_type": "execute_result"
    }
   ],
   "source": [
    "grid.fit(x_train,y_train)"
   ]
  },
  {
   "cell_type": "code",
   "execution_count": 34,
   "metadata": {},
   "outputs": [
    {
     "data": {
      "text/plain": [
       "{'C': 0.1, 'gamma': 0.001}"
      ]
     },
     "execution_count": 34,
     "metadata": {},
     "output_type": "execute_result"
    }
   ],
   "source": [
    "grid.best_params_"
   ]
  },
  {
   "cell_type": "code",
   "execution_count": 35,
   "metadata": {},
   "outputs": [
    {
     "data": {
      "text/plain": [
       "SVC(C=1, gamma=0.5)"
      ]
     },
     "execution_count": 35,
     "metadata": {},
     "output_type": "execute_result"
    }
   ],
   "source": [
    "model_new=SVC(C=1, gamma=0.5)\n",
    "model_new.fit(x_train,y_train)"
   ]
  },
  {
   "cell_type": "code",
   "execution_count": 38,
   "metadata": {},
   "outputs": [
    {
     "data": {
      "text/plain": [
       "67.74774774774774"
      ]
     },
     "execution_count": 38,
     "metadata": {},
     "output_type": "execute_result"
    }
   ],
   "source": [
    "accuracy=model_new.score(x_test,y_test)\n",
    "accuracy*100"
   ]
  },
  {
   "cell_type": "markdown",
   "metadata": {},
   "source": [
    "accuracy of SVM is 67.74%"
   ]
  },
  {
   "cell_type": "markdown",
   "metadata": {},
   "source": [
    "## OBSERVATION"
   ]
  },
  {
   "cell_type": "markdown",
   "metadata": {},
   "source": [
    "1. accuracy of Logistic Regression is 49.72%\n",
    "2. accuracy of DecisionTreeClassifier is 92.97%\n",
    "3. accuracy of KNN is 94.59%\n",
    "4. accuracy of SVM is 67.74%\n",
    "\n",
    "By Compare Accuracy of all the models KNN giving highest accuracy.It would be use as a base model.\n",
    " \n",
    " "
   ]
  }
 ],
 "metadata": {
  "kernelspec": {
   "display_name": "Python 3",
   "language": "python",
   "name": "python3"
  },
  "language_info": {
   "codemirror_mode": {
    "name": "ipython",
    "version": 3
   },
   "file_extension": ".py",
   "mimetype": "text/x-python",
   "name": "python",
   "nbconvert_exporter": "python",
   "pygments_lexer": "ipython3",
   "version": "3.8.5"
  }
 },
 "nbformat": 4,
 "nbformat_minor": 4
}
